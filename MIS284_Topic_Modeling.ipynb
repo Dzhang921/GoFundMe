{
 "cells": [
  {
   "cell_type": "code",
   "execution_count": null,
   "metadata": {
    "colab": {
     "base_uri": "https://localhost:8080/"
    },
    "id": "W_Qpp9zdjqiw",
    "outputId": "c16d4774-1c97-4bf2-d305-d04942b08402"
   },
   "outputs": [
    {
     "name": "stdout",
     "output_type": "stream",
     "text": [
      "Collecting lda\n",
      "  Downloading lda-2.0.0-cp37-cp37m-manylinux1_x86_64.whl (351 kB)\n",
      "\u001b[K     |████████████████████████████████| 351 kB 7.5 MB/s \n",
      "\u001b[?25hCollecting pbr<4,>=0.6\n",
      "  Downloading pbr-3.1.1-py2.py3-none-any.whl (99 kB)\n",
      "\u001b[K     |████████████████████████████████| 99 kB 8.9 MB/s \n",
      "\u001b[?25hRequirement already satisfied: numpy<2.0,>=1.13.0 in /usr/local/lib/python3.7/dist-packages (from lda) (1.19.5)\n",
      "Installing collected packages: pbr, lda\n",
      "Successfully installed lda-2.0.0 pbr-3.1.1\n"
     ]
    }
   ],
   "source": [
    "! pip install lda\n",
    "import numpy as nt\n",
    "import os, csv, nltk, lda\n",
    "import pandas as pd\n",
    "import numpy as np\n",
    "from nltk.tokenize import PunktSentenceTokenizer, RegexpTokenizer\n",
    "from nltk.corpus import stopwords\n",
    "from nltk.stem import WordNetLemmatizer\n",
    "from scipy import sparse\n",
    "from sklearn.feature_extraction.text import TfidfVectorizer\n",
    "from sklearn.metrics.pairwise import cosine_similarity\n",
    "from sklearn.feature_extraction.text import CountVectorizer\n",
    "\n",
    "from nltk.tokenize import PunktSentenceTokenizer,RegexpTokenizer\n",
    "from nltk.corpus import stopwords\n",
    "from nltk.stem import WordNetLemmatizer"
   ]
  },
  {
   "cell_type": "code",
   "execution_count": null,
   "metadata": {
    "colab": {
     "base_uri": "https://localhost:8080/",
     "height": 73,
     "resources": {
      "http://localhost:8080/nbextensions/google.colab/files.js": {
       "data": "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",
       "headers": [
        [
         "content-type",
         "application/javascript"
        ]
       ],
       "ok": true,
       "status": 200,
       "status_text": ""
      }
     }
    },
    "id": "6Ndwq8TAjwKK",
    "outputId": "24af0a3a-50b6-4b3b-93eb-58fd385a1f32"
   },
   "outputs": [
    {
     "data": {
      "text/html": [
       "\n",
       "     <input type=\"file\" id=\"files-8e69b743-db75-4bd3-b054-abca3232f355\" name=\"files[]\" multiple disabled\n",
       "        style=\"border:none\" />\n",
       "     <output id=\"result-8e69b743-db75-4bd3-b054-abca3232f355\">\n",
       "      Upload widget is only available when the cell has been executed in the\n",
       "      current browser session. Please rerun this cell to enable.\n",
       "      </output>\n",
       "      <script src=\"/nbextensions/google.colab/files.js\"></script> "
      ],
      "text/plain": [
       "<IPython.core.display.HTML object>"
      ]
     },
     "metadata": {},
     "output_type": "display_data"
    },
    {
     "name": "stdout",
     "output_type": "stream",
     "text": [
      "Saving gogogo.csv to gogogo.csv\n"
     ]
    }
   ],
   "source": [
    "from google.colab import files\n",
    "df = files.upload()"
   ]
  },
  {
   "cell_type": "code",
   "execution_count": null,
   "metadata": {
    "colab": {
     "base_uri": "https://localhost:8080/",
     "height": 590
    },
    "id": "qKwx46kWj6iJ",
    "outputId": "1451d782-b1f2-47c8-db4c-ca6659454ecb"
   },
   "outputs": [
    {
     "data": {
      "text/html": [
       "<div>\n",
       "<style scoped>\n",
       "    .dataframe tbody tr th:only-of-type {\n",
       "        vertical-align: middle;\n",
       "    }\n",
       "\n",
       "    .dataframe tbody tr th {\n",
       "        vertical-align: top;\n",
       "    }\n",
       "\n",
       "    .dataframe thead th {\n",
       "        text-align: right;\n",
       "    }\n",
       "</style>\n",
       "<table border=\"1\" class=\"dataframe\">\n",
       "  <thead>\n",
       "    <tr style=\"text-align: right;\">\n",
       "      <th></th>\n",
       "      <th>update</th>\n",
       "      <th>title</th>\n",
       "      <th>post</th>\n",
       "      <th>fundraiser</th>\n",
       "      <th>image_labels</th>\n",
       "      <th>current_raised</th>\n",
       "      <th>goal_fund</th>\n",
       "      <th>Self-raised</th>\n",
       "      <th>goal_precentage</th>\n",
       "      <th>post_split</th>\n",
       "      <th>post_split_tokenized</th>\n",
       "      <th>post_lemma</th>\n",
       "      <th>post_gensim</th>\n",
       "      <th>trial</th>\n",
       "      <th>trial_token</th>\n",
       "    </tr>\n",
       "  </thead>\n",
       "  <tbody>\n",
       "    <tr>\n",
       "      <th>0</th>\n",
       "      <td>NaN</td>\n",
       "      <td>Marley's Recovery</td>\n",
       "      <td>Kristina Webb is organizing this fundraiser.Cr...</td>\n",
       "      <td>Kristina Webb is organizing this fundraiser.</td>\n",
       "      <td>['Nose', 'Cheek', 'Lip', 'Eyebrow', 'Eyelash',...</td>\n",
       "      <td>7620</td>\n",
       "      <td>5000</td>\n",
       "      <td>1</td>\n",
       "      <td>1.52</td>\n",
       "      <td>hi, my name is kristina webb. i'm starting thi...</td>\n",
       "      <td>['hi', 'my', 'name', 'is', 'kristina', 'webb',...</td>\n",
       "      <td>['hi', 'name', 'be', 'kristina', 'webb', 'be',...</td>\n",
       "      <td>['kristina', 'webb', 'organ', 'fundraiser.cr',...</td>\n",
       "      <td>hi kristina webb start fundraiser help support...</td>\n",
       "      <td>['hi', 'kristina', 'webb', 'start', 'fundraise...</td>\n",
       "    </tr>\n",
       "    <tr>\n",
       "      <th>1</th>\n",
       "      <td>NaN</td>\n",
       "      <td>Help myan get epidural stimulation surgery</td>\n",
       "      <td>Christopoher Clark is organizing this fundrais...</td>\n",
       "      <td>Christopoher Clark is organizing this fundraiser.</td>\n",
       "      <td>[]</td>\n",
       "      <td>900</td>\n",
       "      <td>215000</td>\n",
       "      <td>1</td>\n",
       "      <td>0.00</td>\n",
       "      <td>myan was in a bad car accident a little over a...</td>\n",
       "      <td>['myan', 'was', 'in', 'a', 'bad', 'car', 'acci...</td>\n",
       "      <td>['myan', 'be', 'in', 'a', 'bad', 'car', 'accid...</td>\n",
       "      <td>['christopoh', 'clark', 'organ', 'fundraiser.c...</td>\n",
       "      <td>myan bad car accident little year ago leave qu...</td>\n",
       "      <td>['myan', 'bad', 'car', 'accident', 'little', '...</td>\n",
       "    </tr>\n",
       "    <tr>\n",
       "      <th>3</th>\n",
       "      <td>NaN</td>\n",
       "      <td>Emergency Financial Aid to Support Salvatore</td>\n",
       "      <td>Giulianna Zetterlund is organizing this fundra...</td>\n",
       "      <td>Giulianna Zetterlund is organizing this fundra...</td>\n",
       "      <td>[]</td>\n",
       "      <td>170761</td>\n",
       "      <td>200000</td>\n",
       "      <td>0</td>\n",
       "      <td>0.85</td>\n",
       "      <td>giulianna zetterlund is organizing this fundra...</td>\n",
       "      <td>['giulianna', 'zetterlund', 'is', 'organizing'...</td>\n",
       "      <td>['giulianna', 'zetterlund', 'be', 'organize', ...</td>\n",
       "      <td>['giulianna', 'zetterlund', 'organ', 'fundrais...</td>\n",
       "      <td>giulianna zetterlund organize fundraiser behal...</td>\n",
       "      <td>['giulianna', 'zetterlund', 'organize', 'fundr...</td>\n",
       "    </tr>\n",
       "    <tr>\n",
       "      <th>4</th>\n",
       "      <td>NaN</td>\n",
       "      <td>360 Community Management- Help Eric's children</td>\n",
       "      <td>Rachael Robenolt is organizing this fundraiser...</td>\n",
       "      <td>Rachael Robenolt is organizing this fundraiser.</td>\n",
       "      <td>[]</td>\n",
       "      <td>5585</td>\n",
       "      <td>5000</td>\n",
       "      <td>1</td>\n",
       "      <td>1.12</td>\n",
       "      <td>hi everyone. we are devastated to report that ...</td>\n",
       "      <td>['hi', 'everyone', 'we', 'are', 'devastated', ...</td>\n",
       "      <td>['hi', 'everyone', 'be', 'devastate', 'to', 'r...</td>\n",
       "      <td>['rachael', 'robenolt', 'organ', 'fundraiser.c...</td>\n",
       "      <td>hi devastate report maintenance employee suffe...</td>\n",
       "      <td>['hi', 'devastate', 'report', 'maintenance', '...</td>\n",
       "    </tr>\n",
       "    <tr>\n",
       "      <th>5</th>\n",
       "      <td>NaN</td>\n",
       "      <td>Help Support Lynda VanderBilt</td>\n",
       "      <td>Miranda Homrich is organizing this fundraiser....</td>\n",
       "      <td>Miranda Homrich is organizing this fundraiser.</td>\n",
       "      <td>[]</td>\n",
       "      <td>4100</td>\n",
       "      <td>4500</td>\n",
       "      <td>1</td>\n",
       "      <td>0.91</td>\n",
       "      <td>hi all, most of you know my amazing and incred...</td>\n",
       "      <td>['hi', 'all', 'most', 'of', 'you', 'know', 'my...</td>\n",
       "      <td>['hi', 'all', 'most', 'of', 'know', 'amazing',...</td>\n",
       "      <td>['miranda', 'homrich', 'organ', 'fundraiser.cr...</td>\n",
       "      <td>hi know amazing incredible aunt lynda integral...</td>\n",
       "      <td>['hi', 'know', 'amazing', 'incredible', 'aunt'...</td>\n",
       "    </tr>\n",
       "  </tbody>\n",
       "</table>\n",
       "</div>"
      ],
      "text/plain": [
       "  update  ...                                        trial_token\n",
       "0    NaN  ...  ['hi', 'kristina', 'webb', 'start', 'fundraise...\n",
       "1    NaN  ...  ['myan', 'bad', 'car', 'accident', 'little', '...\n",
       "3    NaN  ...  ['giulianna', 'zetterlund', 'organize', 'fundr...\n",
       "4    NaN  ...  ['hi', 'devastate', 'report', 'maintenance', '...\n",
       "5    NaN  ...  ['hi', 'know', 'amazing', 'incredible', 'aunt'...\n",
       "\n",
       "[5 rows x 15 columns]"
      ]
     },
     "execution_count": 5,
     "metadata": {},
     "output_type": "execute_result"
    }
   ],
   "source": [
    "go = pd.read_csv('gogogo.csv', index_col=0)\n",
    "go.head()"
   ]
  },
  {
   "cell_type": "code",
   "execution_count": null,
   "metadata": {
    "id": "Tm_3z_tcj6Zk"
   },
   "outputs": [],
   "source": [
    "vec_words = CountVectorizer(max_df = 0.7, min_df=0.05)\n",
    "total_words = vec_words.fit_transform(go['trial_token'])"
   ]
  },
  {
   "cell_type": "code",
   "execution_count": null,
   "metadata": {
    "colab": {
     "base_uri": "https://localhost:8080/"
    },
    "id": "Q3WwWGD_j6WO",
    "outputId": "6f4d61e8-3951-4827-f441-b15b39ecc08f"
   },
   "outputs": [
    {
     "name": "stderr",
     "output_type": "stream",
     "text": [
      "INFO:lda:n_documents: 989\n",
      "INFO:lda:vocab_size: 306\n",
      "INFO:lda:n_words: 49751\n",
      "INFO:lda:n_topics: 5\n",
      "INFO:lda:n_iter: 500\n",
      "WARNING:lda:all zero row in document-term matrix found\n",
      "INFO:lda:<0> log likelihood: -368287\n",
      "INFO:lda:<10> log likelihood: -315681\n",
      "INFO:lda:<20> log likelihood: -305503\n",
      "INFO:lda:<30> log likelihood: -302284\n",
      "INFO:lda:<40> log likelihood: -300411\n",
      "INFO:lda:<50> log likelihood: -299649\n",
      "INFO:lda:<60> log likelihood: -298765\n",
      "INFO:lda:<70> log likelihood: -298071\n",
      "INFO:lda:<80> log likelihood: -297962\n",
      "INFO:lda:<90> log likelihood: -297336\n",
      "INFO:lda:<100> log likelihood: -296620\n",
      "INFO:lda:<110> log likelihood: -296563\n",
      "INFO:lda:<120> log likelihood: -297010\n",
      "INFO:lda:<130> log likelihood: -297227\n",
      "INFO:lda:<140> log likelihood: -296884\n",
      "INFO:lda:<150> log likelihood: -296878\n",
      "INFO:lda:<160> log likelihood: -296641\n",
      "INFO:lda:<170> log likelihood: -296659\n",
      "INFO:lda:<180> log likelihood: -296570\n",
      "INFO:lda:<190> log likelihood: -296566\n",
      "INFO:lda:<200> log likelihood: -296071\n",
      "INFO:lda:<210> log likelihood: -295991\n",
      "INFO:lda:<220> log likelihood: -295892\n",
      "INFO:lda:<230> log likelihood: -295653\n",
      "INFO:lda:<240> log likelihood: -295698\n",
      "INFO:lda:<250> log likelihood: -295956\n",
      "INFO:lda:<260> log likelihood: -296148\n",
      "INFO:lda:<270> log likelihood: -295804\n",
      "INFO:lda:<280> log likelihood: -295786\n",
      "INFO:lda:<290> log likelihood: -295037\n",
      "INFO:lda:<300> log likelihood: -295279\n",
      "INFO:lda:<310> log likelihood: -295318\n",
      "INFO:lda:<320> log likelihood: -294831\n",
      "INFO:lda:<330> log likelihood: -294484\n",
      "INFO:lda:<340> log likelihood: -294780\n",
      "INFO:lda:<350> log likelihood: -294839\n",
      "INFO:lda:<360> log likelihood: -295272\n",
      "INFO:lda:<370> log likelihood: -295233\n",
      "INFO:lda:<380> log likelihood: -295053\n",
      "INFO:lda:<390> log likelihood: -294922\n",
      "INFO:lda:<400> log likelihood: -294903\n",
      "INFO:lda:<410> log likelihood: -294917\n",
      "INFO:lda:<420> log likelihood: -294545\n",
      "INFO:lda:<430> log likelihood: -294596\n",
      "INFO:lda:<440> log likelihood: -294431\n",
      "INFO:lda:<450> log likelihood: -293999\n",
      "INFO:lda:<460> log likelihood: -294649\n",
      "INFO:lda:<470> log likelihood: -294595\n",
      "INFO:lda:<480> log likelihood: -294797\n",
      "INFO:lda:<490> log likelihood: -294539\n",
      "INFO:lda:<499> log likelihood: -293906\n"
     ]
    },
    {
     "data": {
      "text/plain": [
       "<lda.lda.LDA at 0x7faf11d87210>"
      ]
     },
     "execution_count": 27,
     "metadata": {},
     "output_type": "execute_result"
    }
   ],
   "source": [
    "model = lda.LDA(n_topics=5, n_iter=500, random_state=1)\n",
    "model.fit(total_words)"
   ]
  },
  {
   "cell_type": "code",
   "execution_count": null,
   "metadata": {
    "id": "L6ac43P4j6TW"
   },
   "outputs": [],
   "source": [
    "topic_word = model.topic_word_\n",
    "doc_topic = model.doc_topic_\n",
    "doc_topic = pd.DataFrame(doc_topic)"
   ]
  },
  {
   "cell_type": "code",
   "execution_count": null,
   "metadata": {
    "id": "4JhokkBDlUBI"
   },
   "outputs": [],
   "source": [
    "topics = pd.DataFrame(topic_word)\n",
    "topics.columns = vec_words.get_feature_names()"
   ]
  },
  {
   "cell_type": "code",
   "execution_count": null,
   "metadata": {
    "colab": {
     "base_uri": "https://localhost:8080/"
    },
    "id": "-p65UcnflpFD",
    "outputId": "b5760b1f-acde-41fd-916c-e6b913e58db0"
   },
   "outputs": [
    {
     "data": {
      "text/plain": [
       "surgery     0.031873\n",
       "accident    0.027833\n",
       "car         0.024242\n",
       "need        0.022596\n",
       "injury      0.021698\n",
       "bill        0.021549\n",
       "work        0.020950\n",
       "leg         0.019154\n",
       "hit         0.018257\n",
       "hospital    0.017060\n",
       "Name: 0, dtype: float64"
      ]
     },
     "execution_count": 30,
     "metadata": {},
     "output_type": "execute_result"
    }
   ],
   "source": [
    "topics.iloc[0].sort_values(ascending=False)[:10]"
   ]
  },
  {
   "cell_type": "code",
   "execution_count": null,
   "metadata": {
    "colab": {
     "base_uri": "https://localhost:8080/"
    },
    "id": "XvkGH1V5lpBk",
    "outputId": "e36a1160-4bdb-4362-a16a-4f136a755fd4"
   },
   "outputs": [
    {
     "data": {
      "text/plain": [
       "family      0.040931\n",
       "medical     0.027025\n",
       "hospital    0.026238\n",
       "care        0.021341\n",
       "support     0.020379\n",
       "time        0.018105\n",
       "need        0.017755\n",
       "prayer      0.017667\n",
       "organize    0.016968\n",
       "recovery    0.016880\n",
       "Name: 1, dtype: float64"
      ]
     },
     "execution_count": 31,
     "metadata": {},
     "output_type": "execute_result"
    }
   ],
   "source": [
    "topics.iloc[1].sort_values(ascending=False)[:10]"
   ]
  },
  {
   "cell_type": "code",
   "execution_count": null,
   "metadata": {
    "colab": {
     "base_uri": "https://localhost:8080/"
    },
    "id": "gEU6Sa70mIVf",
    "outputId": "0f70642c-5fc4-4194-c184-7963d4eca9e1"
   },
   "outputs": [
    {
     "data": {
      "text/plain": [
       "work    0.027554\n",
       "know    0.026641\n",
       "time    0.022607\n",
       "need    0.020628\n",
       "come    0.018725\n",
       "year    0.017203\n",
       "day     0.016746\n",
       "go      0.016670\n",
       "life    0.015071\n",
       "week    0.014539\n",
       "Name: 2, dtype: float64"
      ]
     },
     "execution_count": 32,
     "metadata": {},
     "output_type": "execute_result"
    }
   ],
   "source": [
    "topics.iloc[2].sort_values(ascending=False)[:10]"
   ]
  },
  {
   "cell_type": "code",
   "execution_count": null,
   "metadata": {
    "colab": {
     "base_uri": "https://localhost:8080/"
    },
    "id": "ROz3EG3rmIJM",
    "outputId": "1f8c4f7d-fbc3-4db8-fd63-a2609725e129"
   },
   "outputs": [
    {
     "data": {
      "text/plain": [
       "family       0.048151\n",
       "home         0.041747\n",
       "fire         0.037240\n",
       "lose         0.028701\n",
       "house        0.028345\n",
       "need         0.025855\n",
       "community    0.021585\n",
       "fund         0.018858\n",
       "organize     0.017909\n",
       "water        0.016604\n",
       "Name: 3, dtype: float64"
      ]
     },
     "execution_count": 33,
     "metadata": {},
     "output_type": "execute_result"
    }
   ],
   "source": [
    "topics.iloc[3].sort_values(ascending=False)[:10]"
   ]
  },
  {
   "cell_type": "code",
   "execution_count": null,
   "metadata": {
    "colab": {
     "base_uri": "https://localhost:8080/"
    },
    "id": "Tv61AIOmmjwj",
    "outputId": "c0b8a4c3-5d85-4929-b730-ee5fcfb63d55"
   },
   "outputs": [
    {
     "data": {
      "text/plain": [
       "family     0.075504\n",
       "friend     0.026789\n",
       "love       0.026194\n",
       "support    0.022920\n",
       "life       0.021531\n",
       "child      0.020142\n",
       "son        0.017860\n",
       "year       0.017860\n",
       "wife       0.017860\n",
       "time       0.016967\n",
       "Name: 4, dtype: float64"
      ]
     },
     "execution_count": 34,
     "metadata": {},
     "output_type": "execute_result"
    }
   ],
   "source": [
    "topics.iloc[4].sort_values(ascending=False)[:10]"
   ]
  },
  {
   "cell_type": "code",
   "execution_count": null,
   "metadata": {
    "id": "oX4wPq2pn-J6"
   },
   "outputs": [],
   "source": [
    "result = total_words @ topic_word.T\n",
    "topic_dict = {\n",
    "    0: 'car accident',\n",
    "    1: 'medical care',\n",
    "    2: 'job loss',\n",
    "    3: 'house fire',\n",
    "    4: 'child loss'\n",
    "}"
   ]
  },
  {
   "cell_type": "code",
   "execution_count": 88,
   "metadata": {
    "id": "uQnN_xZw8R_Q"
   },
   "outputs": [],
   "source": [
    "go['category'] = go.index.copy()"
   ]
  },
  {
   "cell_type": "code",
   "execution_count": 92,
   "metadata": {
    "id": "-1uWY48HsCO7"
   },
   "outputs": [],
   "source": [
    "def catAssign(x):\n",
    "  max_ = max(result[x])\n",
    "  ix = list(result[x]).index(max_)\n",
    "  return topic_dict[ix]\n",
    "go['category'] = go['category'].apply(catAssign)"
   ]
  },
  {
   "cell_type": "code",
   "execution_count": 93,
   "metadata": {
    "colab": {
     "base_uri": "https://localhost:8080/",
     "height": 17
    },
    "id": "kjsVzADa9no5",
    "outputId": "7bc630e4-4322-4d8a-c1ee-b8a88bd9fdd3"
   },
   "outputs": [
    {
     "data": {
      "application/javascript": [
       "\n",
       "    async function download(id, filename, size) {\n",
       "      if (!google.colab.kernel.accessAllowed) {\n",
       "        return;\n",
       "      }\n",
       "      const div = document.createElement('div');\n",
       "      const label = document.createElement('label');\n",
       "      label.textContent = `Downloading \"${filename}\": `;\n",
       "      div.appendChild(label);\n",
       "      const progress = document.createElement('progress');\n",
       "      progress.max = size;\n",
       "      div.appendChild(progress);\n",
       "      document.body.appendChild(div);\n",
       "\n",
       "      const buffers = [];\n",
       "      let downloaded = 0;\n",
       "\n",
       "      const channel = await google.colab.kernel.comms.open(id);\n",
       "      // Send a message to notify the kernel that we're ready.\n",
       "      channel.send({})\n",
       "\n",
       "      for await (const message of channel.messages) {\n",
       "        // Send a message to notify the kernel that we're ready.\n",
       "        channel.send({})\n",
       "        if (message.buffers) {\n",
       "          for (const buffer of message.buffers) {\n",
       "            buffers.push(buffer);\n",
       "            downloaded += buffer.byteLength;\n",
       "            progress.value = downloaded;\n",
       "          }\n",
       "        }\n",
       "      }\n",
       "      const blob = new Blob(buffers, {type: 'application/binary'});\n",
       "      const a = document.createElement('a');\n",
       "      a.href = window.URL.createObjectURL(blob);\n",
       "      a.download = filename;\n",
       "      div.appendChild(a);\n",
       "      a.click();\n",
       "      div.remove();\n",
       "    }\n",
       "  "
      ],
      "text/plain": [
       "<IPython.core.display.Javascript object>"
      ]
     },
     "metadata": {},
     "output_type": "display_data"
    },
    {
     "data": {
      "application/javascript": [
       "download(\"download_ec48acae-0c2c-43a1-b93d-4605aec99bf7\", \"go_topic_modeled.csv\", 9841798)"
      ],
      "text/plain": [
       "<IPython.core.display.Javascript object>"
      ]
     },
     "metadata": {},
     "output_type": "display_data"
    }
   ],
   "source": [
    "go.to_csv('go_topic_modeled.csv')\n",
    "files.download('go_topic_modeled.csv')"
   ]
  }
 ],
 "metadata": {
  "colab": {
   "name": "MIS284 Topic Modeling.ipynb",
   "provenance": []
  },
  "kernelspec": {
   "display_name": "Python 3",
   "language": "python",
   "name": "python3"
  },
  "language_info": {
   "codemirror_mode": {
    "name": "ipython",
    "version": 3
   },
   "file_extension": ".py",
   "mimetype": "text/x-python",
   "name": "python",
   "nbconvert_exporter": "python",
   "pygments_lexer": "ipython3",
   "version": "3.9.5"
  }
 },
 "nbformat": 4,
 "nbformat_minor": 1
}
