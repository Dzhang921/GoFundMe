{
 "cells": [
  {
   "cell_type": "code",
   "execution_count": 9,
   "id": "b6b856a5",
   "metadata": {},
   "outputs": [
    {
     "name": "stdout",
     "output_type": "stream",
     "text": [
      "Collecting en-core-web-lg==3.1.0\n",
      "  Downloading https://github.com/explosion/spacy-models/releases/download/en_core_web_lg-3.1.0/en_core_web_lg-3.1.0-py3-none-any.whl (777.1 MB)\n",
      "Requirement already satisfied: spacy<3.2.0,>=3.1.0 in c:\\users\\dxzha\\appdata\\local\\programs\\python\\python39\\lib\\site-packages (from en-core-web-lg==3.1.0) (3.1.3)\n",
      "Requirement already satisfied: catalogue<2.1.0,>=2.0.6 in c:\\users\\dxzha\\appdata\\local\\programs\\python\\python39\\lib\\site-packages (from spacy<3.2.0,>=3.1.0->en-core-web-lg==3.1.0) (2.0.6)\n",
      "Requirement already satisfied: murmurhash<1.1.0,>=0.28.0 in c:\\users\\dxzha\\appdata\\local\\programs\\python\\python39\\lib\\site-packages (from spacy<3.2.0,>=3.1.0->en-core-web-lg==3.1.0) (1.0.5)\n",
      "Requirement already satisfied: cymem<2.1.0,>=2.0.2 in c:\\users\\dxzha\\appdata\\local\\programs\\python\\python39\\lib\\site-packages (from spacy<3.2.0,>=3.1.0->en-core-web-lg==3.1.0) (2.0.5)\n",
      "Requirement already satisfied: numpy>=1.15.0 in c:\\users\\dxzha\\appdata\\local\\programs\\python\\python39\\lib\\site-packages (from spacy<3.2.0,>=3.1.0->en-core-web-lg==3.1.0) (1.21.2)\n",
      "Requirement already satisfied: thinc<8.1.0,>=8.0.9 in c:\\users\\dxzha\\appdata\\local\\programs\\python\\python39\\lib\\site-packages (from spacy<3.2.0,>=3.1.0->en-core-web-lg==3.1.0) (8.0.10)\n",
      "Requirement already satisfied: blis<0.8.0,>=0.4.0 in c:\\users\\dxzha\\appdata\\local\\programs\\python\\python39\\lib\\site-packages (from spacy<3.2.0,>=3.1.0->en-core-web-lg==3.1.0) (0.7.4)\n",
      "Requirement already satisfied: tqdm<5.0.0,>=4.38.0 in c:\\users\\dxzha\\appdata\\roaming\\python\\python39\\site-packages (from spacy<3.2.0,>=3.1.0->en-core-web-lg==3.1.0) (4.62.2)\n",
      "Requirement already satisfied: pydantic!=1.8,!=1.8.1,<1.9.0,>=1.7.4 in c:\\users\\dxzha\\appdata\\local\\programs\\python\\python39\\lib\\site-packages (from spacy<3.2.0,>=3.1.0->en-core-web-lg==3.1.0) (1.8.2)\n",
      "Requirement already satisfied: spacy-legacy<3.1.0,>=3.0.8 in c:\\users\\dxzha\\appdata\\local\\programs\\python\\python39\\lib\\site-packages (from spacy<3.2.0,>=3.1.0->en-core-web-lg==3.1.0) (3.0.8)\n",
      "Requirement already satisfied: pathy>=0.3.5 in c:\\users\\dxzha\\appdata\\local\\programs\\python\\python39\\lib\\site-packages (from spacy<3.2.0,>=3.1.0->en-core-web-lg==3.1.0) (0.6.0)\n",
      "Requirement already satisfied: jinja2 in c:\\users\\dxzha\\appdata\\local\\programs\\python\\python39\\lib\\site-packages (from spacy<3.2.0,>=3.1.0->en-core-web-lg==3.1.0) (3.0.1)\n",
      "Requirement already satisfied: requests<3.0.0,>=2.13.0 in c:\\users\\dxzha\\appdata\\local\\programs\\python\\python39\\lib\\site-packages (from spacy<3.2.0,>=3.1.0->en-core-web-lg==3.1.0) (2.26.0)\n",
      "Requirement already satisfied: setuptools in c:\\users\\dxzha\\appdata\\local\\programs\\python\\python39\\lib\\site-packages (from spacy<3.2.0,>=3.1.0->en-core-web-lg==3.1.0) (56.0.0)\n",
      "Requirement already satisfied: packaging>=20.0 in c:\\users\\dxzha\\appdata\\local\\programs\\python\\python39\\lib\\site-packages (from spacy<3.2.0,>=3.1.0->en-core-web-lg==3.1.0) (20.9)\n",
      "Requirement already satisfied: wasabi<1.1.0,>=0.8.1 in c:\\users\\dxzha\\appdata\\local\\programs\\python\\python39\\lib\\site-packages (from spacy<3.2.0,>=3.1.0->en-core-web-lg==3.1.0) (0.8.2)\n",
      "Requirement already satisfied: srsly<3.0.0,>=2.4.1 in c:\\users\\dxzha\\appdata\\local\\programs\\python\\python39\\lib\\site-packages (from spacy<3.2.0,>=3.1.0->en-core-web-lg==3.1.0) (2.4.1)\n",
      "Requirement already satisfied: preshed<3.1.0,>=3.0.2 in c:\\users\\dxzha\\appdata\\local\\programs\\python\\python39\\lib\\site-packages (from spacy<3.2.0,>=3.1.0->en-core-web-lg==3.1.0) (3.0.5)\n",
      "Requirement already satisfied: typer<0.5.0,>=0.3.0 in c:\\users\\dxzha\\appdata\\local\\programs\\python\\python39\\lib\\site-packages (from spacy<3.2.0,>=3.1.0->en-core-web-lg==3.1.0) (0.4.0)\n",
      "Requirement already satisfied: pyparsing>=2.0.2 in c:\\users\\dxzha\\appdata\\local\\programs\\python\\python39\\lib\\site-packages (from packaging>=20.0->spacy<3.2.0,>=3.1.0->en-core-web-lg==3.1.0) (2.4.7)\n",
      "Requirement already satisfied: smart-open<6.0.0,>=5.0.0 in c:\\users\\dxzha\\appdata\\local\\programs\\python\\python39\\lib\\site-packages (from pathy>=0.3.5->spacy<3.2.0,>=3.1.0->en-core-web-lg==3.1.0) (5.2.1)\n",
      "Requirement already satisfied: typing-extensions>=3.7.4.3 in c:\\users\\dxzha\\appdata\\local\\programs\\python\\python39\\lib\\site-packages (from pydantic!=1.8,!=1.8.1,<1.9.0,>=1.7.4->spacy<3.2.0,>=3.1.0->en-core-web-lg==3.1.0) (3.7.4.3)\n",
      "Requirement already satisfied: urllib3<1.27,>=1.21.1 in c:\\users\\dxzha\\appdata\\local\\programs\\python\\python39\\lib\\site-packages (from requests<3.0.0,>=2.13.0->spacy<3.2.0,>=3.1.0->en-core-web-lg==3.1.0) (1.26.6)\n",
      "Requirement already satisfied: charset-normalizer~=2.0.0 in c:\\users\\dxzha\\appdata\\local\\programs\\python\\python39\\lib\\site-packages (from requests<3.0.0,>=2.13.0->spacy<3.2.0,>=3.1.0->en-core-web-lg==3.1.0) (2.0.4)\n",
      "Requirement already satisfied: idna<4,>=2.5 in c:\\users\\dxzha\\appdata\\local\\programs\\python\\python39\\lib\\site-packages (from requests<3.0.0,>=2.13.0->spacy<3.2.0,>=3.1.0->en-core-web-lg==3.1.0) (3.2)\n",
      "Requirement already satisfied: certifi>=2017.4.17 in c:\\users\\dxzha\\appdata\\local\\programs\\python\\python39\\lib\\site-packages (from requests<3.0.0,>=2.13.0->spacy<3.2.0,>=3.1.0->en-core-web-lg==3.1.0) (2021.5.30)\n",
      "Requirement already satisfied: colorama in c:\\users\\dxzha\\appdata\\local\\programs\\python\\python39\\lib\\site-packages (from tqdm<5.0.0,>=4.38.0->spacy<3.2.0,>=3.1.0->en-core-web-lg==3.1.0) (0.4.4)\n",
      "Requirement already satisfied: click<9.0.0,>=7.1.1 in c:\\users\\dxzha\\appdata\\roaming\\python\\python39\\site-packages (from typer<0.5.0,>=0.3.0->spacy<3.2.0,>=3.1.0->en-core-web-lg==3.1.0) (8.0.1)\n",
      "Requirement already satisfied: MarkupSafe>=2.0 in c:\\users\\dxzha\\appdata\\local\\programs\\python\\python39\\lib\\site-packages (from jinja2->spacy<3.2.0,>=3.1.0->en-core-web-lg==3.1.0) (2.0.1)\n",
      "Installing collected packages: en-core-web-lg\n",
      "Successfully installed en-core-web-lg-3.1.0\n",
      "[+] Download and installation successful\n",
      "You can now load the package via spacy.load('en_core_web_lg')\n"
     ]
    },
    {
     "name": "stderr",
     "output_type": "stream",
     "text": [
      "2021-10-06 21:39:43.292844: W tensorflow/stream_executor/platform/default/dso_loader.cc:64] Could not load dynamic library 'cudart64_110.dll'; dlerror: cudart64_110.dll not found\n",
      "2021-10-06 21:39:43.292884: I tensorflow/stream_executor/cuda/cudart_stub.cc:29] Ignore above cudart dlerror if you do not have a GPU set up on your machine.\n"
     ]
    }
   ],
   "source": [
    "# Usual imports\n",
    "import numpy as np\n",
    "import pandas as pd\n",
    "from tqdm import tqdm\n",
    "import string\n",
    "import matplotlib.pyplot as plt\n",
    "from sklearn.decomposition import NMF, LatentDirichletAllocation, TruncatedSVD\n",
    "from sklearn.feature_extraction.text import CountVectorizer\n",
    "from sklearn.manifold import TSNE\n",
    "import concurrent.futures\n",
    "import time\n",
    "import pyLDAvis.sklearn\n",
    "from pylab import bone, pcolor, colorbar, plot, show, rcParams, savefig\n",
    "import warnings\n",
    "warnings.filterwarnings('ignore')\n",
    "\n",
    "%matplotlib inline\n",
    "import os\n",
    "\n",
    "# spaCy based imports\n",
    "import spacy\n",
    "from spacy.lang.en.stop_words import STOP_WORDS\n",
    "from spacy.lang.en import English"
   ]
  },
  {
   "cell_type": "code",
   "execution_count": 73,
   "id": "969320a7",
   "metadata": {},
   "outputs": [],
   "source": [
    "go = pd.read_csv('./in_progress.csv', sep='\\t', index_col = 0)\n",
    "go.dropna(subset = ['post_split'], inplace=True)"
   ]
  },
  {
   "cell_type": "code",
   "execution_count": 74,
   "id": "dc6e2740",
   "metadata": {},
   "outputs": [
    {
     "data": {
      "text/html": [
       "<span class=\"tex2jax_ignore\"><div class=\"entities\" style=\"line-height: 2.5; direction: ltr\">hi, my name is \n",
       "<mark class=\"entity\" style=\"background: #aa9cfc; padding: 0.45em 0.6em; margin: 0 0.25em; line-height: 1; border-radius: 0.35em;\">\n",
       "    kristina webb\n",
       "    <span style=\"font-size: 0.8em; font-weight: bold; line-height: 1; border-radius: 0.35em; vertical-align: middle; margin-left: 0.5rem\">PERSON</span>\n",
       "</mark>\n",
       ". i'm starting this fundraiser to help support marley and her family during this difficult time with medical bills, housing, and whatever else they may need while marley recovers in \n",
       "<mark class=\"entity\" style=\"background: #feca74; padding: 0.45em 0.6em; margin: 0 0.25em; line-height: 1; border-radius: 0.35em;\">\n",
       "    seattle\n",
       "    <span style=\"font-size: 0.8em; font-weight: bold; line-height: 1; border-radius: 0.35em; vertical-align: middle; margin-left: 0.5rem\">GPE</span>\n",
       "</mark>\n",
       ". </br></br></br></br></br>we were informed \n",
       "<mark class=\"entity\" style=\"background: #bfe1d9; padding: 0.45em 0.6em; margin: 0 0.25em; line-height: 1; border-radius: 0.35em;\">\n",
       "    this morning\n",
       "    <span style=\"font-size: 0.8em; font-weight: bold; line-height: 1; border-radius: 0.35em; vertical-align: middle; margin-left: 0.5rem\">TIME</span>\n",
       "</mark>\n",
       " that marley who is a beautiful, vibrant \n",
       "<mark class=\"entity\" style=\"background: #bfe1d9; padding: 0.45em 0.6em; margin: 0 0.25em; line-height: 1; border-radius: 0.35em;\">\n",
       "    15 year old\n",
       "    <span style=\"font-size: 0.8em; font-weight: bold; line-height: 1; border-radius: 0.35em; vertical-align: middle; margin-left: 0.5rem\">DATE</span>\n",
       "</mark>\n",
       " girl, who is also my daughter \n",
       "<mark class=\"entity\" style=\"background: #aa9cfc; padding: 0.45em 0.6em; margin: 0 0.25em; line-height: 1; border-radius: 0.35em;\">\n",
       "    mackenzie\n",
       "    <span style=\"font-size: 0.8em; font-weight: bold; line-height: 1; border-radius: 0.35em; vertical-align: middle; margin-left: 0.5rem\">PERSON</span>\n",
       "</mark>\n",
       "'s best friend, was involved in an accident \n",
       "<mark class=\"entity\" style=\"background: #bfe1d9; padding: 0.45em 0.6em; margin: 0 0.25em; line-height: 1; border-radius: 0.35em;\">\n",
       "    last night\n",
       "    <span style=\"font-size: 0.8em; font-weight: bold; line-height: 1; border-radius: 0.35em; vertical-align: middle; margin-left: 0.5rem\">TIME</span>\n",
       "</mark>\n",
       " and was badly burned \n",
       "<mark class=\"entity\" style=\"background: #e4e7d2; padding: 0.45em 0.6em; margin: 0 0.25em; line-height: 1; border-radius: 0.35em;\">\n",
       "    over 40%\n",
       "    <span style=\"font-size: 0.8em; font-weight: bold; line-height: 1; border-radius: 0.35em; vertical-align: middle; margin-left: 0.5rem\">PERCENT</span>\n",
       "</mark>\n",
       " of her body with severe burns to the face and head. she was life flighted to \n",
       "<mark class=\"entity\" style=\"background: #feca74; padding: 0.45em 0.6em; margin: 0 0.25em; line-height: 1; border-radius: 0.35em;\">\n",
       "    seattle\n",
       "    <span style=\"font-size: 0.8em; font-weight: bold; line-height: 1; border-radius: 0.35em; vertical-align: middle; margin-left: 0.5rem\">GPE</span>\n",
       "</mark>\n",
       " for treatment which will be a long road to recovery. </br></br></br></br></br>it's hard to believe that this is even real. i've been in contact with her mom, and she gave me the okay to set this fundraiser up for marley. if you are able to donate, anything would be appreciated. if you can't donate monetarily, please keep her in your thoughts and prayers. </br></br></br></br></br>thank you, \n",
       "<mark class=\"entity\" style=\"background: #aa9cfc; padding: 0.45em 0.6em; margin: 0 0.25em; line-height: 1; border-radius: 0.35em;\">\n",
       "    kristina webb\n",
       "    <span style=\"font-size: 0.8em; font-weight: bold; line-height: 1; border-radius: 0.35em; vertical-align: middle; margin-left: 0.5rem\">PERSON</span>\n",
       "</mark>\n",
       "</div></span>"
      ],
      "text/plain": [
       "<IPython.core.display.HTML object>"
      ]
     },
     "metadata": {},
     "output_type": "display_data"
    }
   ],
   "source": [
    "nlp = spacy.load('en_core_web_lg')\n",
    "\n",
    "doc = nlp(go['post_split'][0])\n",
    "spacy.displacy.render(doc, style='ent', jupyter=True)"
   ]
  },
  {
   "cell_type": "code",
   "execution_count": 109,
   "id": "02a506b0",
   "metadata": {},
   "outputs": [],
   "source": [
    "parser = English()\n",
    "stopwords = list(STOP_WORDS)\n",
    "punctuations = string.punctuation\n",
    "\n",
    "def spacy_tokenizer(x):\n",
    "    tokens = parser(x)\n",
    "    tokens = [word.lemma_.lower().strip() if word.lemma_ != '-PRON-' else word.lower_ for word in tokens]\n",
    "    tokens = [word for word in tokens if word not in stopwords and word not in punctuations]\n",
    "    return tokens"
   ]
  },
  {
   "cell_type": "code",
   "execution_count": 57,
   "id": "fd62566d",
   "metadata": {},
   "outputs": [],
   "source": [
    "import langid # language identification (i.e. what language is this?)\n",
    "from nltk.classify.textcat import TextCat\n",
    "\n",
    "go['ids_langid'] = go['post'].apply(langid.classify)\n",
    "\n",
    "# get just the language label\n",
    "go['langs'] = go['ids_langid'].apply(lambda tuple: tuple[0])"
   ]
  },
  {
   "cell_type": "code",
   "execution_count": 61,
   "id": "faf90e11",
   "metadata": {},
   "outputs": [
    {
     "data": {
      "text/plain": [
       "948"
      ]
     },
     "execution_count": 61,
     "metadata": {},
     "output_type": "execute_result"
    }
   ],
   "source": [
    "go = go[go['langs'] =='en']\n",
    "len(go)"
   ]
  },
  {
   "cell_type": "code",
   "execution_count": 64,
   "id": "27e70afe",
   "metadata": {},
   "outputs": [],
   "source": [
    "def spacy_bigram_tokenizer(phrase):\n",
    "    doc = parser(phrase) # create spacy object\n",
    "    token_not_noun = []\n",
    "    notnoun_noun_list = []\n",
    "    noun = \"\"\n",
    "\n",
    "    for item in doc:\n",
    "        if item.pos_ != \"NOUN\": # separate nouns and not nouns\n",
    "            token_not_noun.append(item.text)\n",
    "        if item.pos_ == \"NOUN\":\n",
    "            noun = item.text\n",
    "        \n",
    "        for notnoun in token_not_noun:\n",
    "            notnoun_noun_list.append(notnoun + \" \" + noun)\n",
    "\n",
    "    return \" \".join([i for i in notnoun_noun_list])"
   ]
  },
  {
   "cell_type": "code",
   "execution_count": 113,
   "id": "b6d6c268",
   "metadata": {},
   "outputs": [],
   "source": [
    "go['spacy_token'] = go['post_split'].astype('str').apply(spacy_tokenizer)"
   ]
  },
  {
   "cell_type": "code",
   "execution_count": 118,
   "id": "ca54fa0d",
   "metadata": {},
   "outputs": [
    {
     "data": {
      "text/plain": [
       "0      ['hi', 'name', 'be', 'kristina', 'webb', 'be',...\n",
       "1      ['myan', 'be', 'in', 'a', 'bad', 'car', 'accid...\n",
       "3      ['giulianna', 'zetterlund', 'be', 'organize', ...\n",
       "4      ['hi', 'everyone', 'be', 'devastate', 'to', 'r...\n",
       "5      ['hi', 'all', 'most', 'of', 'know', 'amazing',...\n",
       "                             ...                        \n",
       "985    ['yesterday', 'freddie', 'also', 'know', 'as',...\n",
       "986    ['on', 'september', '27th', '2021', 'sister', ...\n",
       "987    ['melissa', 'powarzynski', 'be', 'organize', '...\n",
       "988    ['on', 'friday', 'september', '24', 'beloved',...\n",
       "989    ['amber', 'lucente', 'be', 'organize', 'this',...\n",
       "Name: post_lemma, Length: 989, dtype: object"
      ]
     },
     "execution_count": 118,
     "metadata": {},
     "output_type": "execute_result"
    }
   ],
   "source": [
    "#go['spacy_token'] = go['post_lemma'].apply(lambda x: word for word in x if word != '-PRON-')\n",
    "go['post_lemma']"
   ]
  },
  {
   "cell_type": "code",
   "execution_count": 121,
   "id": "433e8a12",
   "metadata": {},
   "outputs": [],
   "source": [
    "bivectorizer = CountVectorizer(min_df=5, max_df=0.9, stop_words='english', lowercase=True, ngram_range=(1,2))\n",
    "bigram_vectorized = bivectorizer.fit_transform(go[\"post_lemma\"])"
   ]
  },
  {
   "cell_type": "code",
   "execution_count": 119,
   "id": "ca1374ec",
   "metadata": {},
   "outputs": [],
   "source": [
    "vectorizer = CountVectorizer(lowercase=True)\n",
    "data_vectorized = vectorizer.fit_transform(go['post_lemma'])"
   ]
  },
  {
   "cell_type": "code",
   "execution_count": 122,
   "id": "a31db7c6",
   "metadata": {},
   "outputs": [
    {
     "name": "stdout",
     "output_type": "stream",
     "text": [
      "iteration: 1 of max_iter: 10\n",
      "iteration: 2 of max_iter: 10\n",
      "iteration: 3 of max_iter: 10\n",
      "iteration: 4 of max_iter: 10\n",
      "iteration: 5 of max_iter: 10\n",
      "iteration: 6 of max_iter: 10\n",
      "iteration: 7 of max_iter: 10\n",
      "iteration: 8 of max_iter: 10\n",
      "iteration: 9 of max_iter: 10\n",
      "iteration: 10 of max_iter: 10\n"
     ]
    }
   ],
   "source": [
    "NUM_TOPICS = 10\n",
    "\n",
    "# Latent Dirichlet Allocation Model\n",
    "lda_spacy = LatentDirichletAllocation(n_components=NUM_TOPICS, max_iter=10, learning_method='online',verbose=True)\n",
    "data_lda = lda_spacy.fit_transform(data_vectorized)"
   ]
  },
  {
   "cell_type": "markdown",
   "id": "bee09bb9",
   "metadata": {},
   "source": [
    "## Another fucking try"
   ]
  },
  {
   "cell_type": "code",
   "execution_count": 89,
   "id": "883e1215",
   "metadata": {},
   "outputs": [
    {
     "data": {
      "text/plain": [
       "0      [kristina, webb, organ, fundraiser.cr, dai, ag...\n",
       "1      [christopoh, clark, organ, fundraiser.cr, dai,...\n",
       "3      [giulianna, zetterlund, organ, fundrais, behal...\n",
       "4      [rachael, robenolt, organ, fundraiser.cr, dai,...\n",
       "5      [miranda, homrich, organ, fundraiser.cr, dai, ...\n",
       "                             ...                        \n",
       "985    [chantal, washington, organ, fundraiser.cr, da...\n",
       "986    [andrea, silva, organ, fundraiser.cr, dai, ago...\n",
       "987    [melissa, powarzynski, organ, fundraiser.hello...\n",
       "988    [cindi, unes-cart, organ, fundraiser.cr, dai, ...\n",
       "989    [amber, lucent, organ, fundraiser.saturday,, s...\n",
       "Name: post_gensim, Length: 989, dtype: object"
      ]
     },
     "execution_count": 89,
     "metadata": {},
     "output_type": "execute_result"
    }
   ],
   "source": [
    "from gensim.parsing.preprocessing import preprocess_string\n",
    "from gensim.parsing.preprocessing import strip_tags, strip_punctuation, strip_numeric, stem_text\n",
    "from gensim.parsing.preprocessing import strip_multiple_whitespaces, strip_non_alphanum, remove_stopwords, strip_short\n",
    "\n",
    "custom = [\n",
    "    lambda x: x.lower(),\n",
    "    strip_multiple_whitespaces,\n",
    "    strip_numeric,\n",
    "    remove_stopwords,\n",
    "    strip_short,\n",
    "    stem_text\n",
    "]\n",
    "\n",
    "go['post_gensim'] = go['post'].astype('str').apply(lambda x: preprocess_string(x, custom))\n",
    "go['post_gensim']\n"
   ]
  },
  {
   "cell_type": "code",
   "execution_count": 120,
   "id": "e10b39f3",
   "metadata": {},
   "outputs": [
    {
     "ename": "TypeError",
     "evalue": "doc2bow expects an array of unicode tokens on input, not a single string",
     "output_type": "error",
     "traceback": [
      "\u001b[1;31m---------------------------------------------------------------------------\u001b[0m",
      "\u001b[1;31mTypeError\u001b[0m                                 Traceback (most recent call last)",
      "\u001b[1;32m<ipython-input-120-e658236af244>\u001b[0m in \u001b[0;36m<module>\u001b[1;34m\u001b[0m\n\u001b[0;32m      1\u001b[0m \u001b[1;32mfrom\u001b[0m \u001b[0mgensim\u001b[0m \u001b[1;32mimport\u001b[0m \u001b[0mcorpora\u001b[0m\u001b[1;33m,\u001b[0m \u001b[0mmodels\u001b[0m\u001b[1;33m,\u001b[0m \u001b[0msimilarities\u001b[0m\u001b[1;33m\u001b[0m\u001b[1;33m\u001b[0m\u001b[0m\n\u001b[0;32m      2\u001b[0m \u001b[1;33m\u001b[0m\u001b[0m\n\u001b[1;32m----> 3\u001b[1;33m \u001b[0mdictionary\u001b[0m \u001b[1;33m=\u001b[0m \u001b[0mcorpora\u001b[0m\u001b[1;33m.\u001b[0m\u001b[0mDictionary\u001b[0m\u001b[1;33m(\u001b[0m\u001b[0mgo\u001b[0m\u001b[1;33m[\u001b[0m\u001b[1;34m'post_lemma'\u001b[0m\u001b[1;33m]\u001b[0m\u001b[1;33m)\u001b[0m\u001b[1;33m\u001b[0m\u001b[1;33m\u001b[0m\u001b[0m\n\u001b[0m",
      "\u001b[1;32mc:\\users\\dxzha\\appdata\\local\\programs\\python\\python39\\lib\\site-packages\\gensim\\corpora\\dictionary.py\u001b[0m in \u001b[0;36m__init__\u001b[1;34m(self, documents, prune_at)\u001b[0m\n\u001b[0;32m     76\u001b[0m \u001b[1;33m\u001b[0m\u001b[0m\n\u001b[0;32m     77\u001b[0m         \u001b[1;32mif\u001b[0m \u001b[0mdocuments\u001b[0m \u001b[1;32mis\u001b[0m \u001b[1;32mnot\u001b[0m \u001b[1;32mNone\u001b[0m\u001b[1;33m:\u001b[0m\u001b[1;33m\u001b[0m\u001b[1;33m\u001b[0m\u001b[0m\n\u001b[1;32m---> 78\u001b[1;33m             \u001b[0mself\u001b[0m\u001b[1;33m.\u001b[0m\u001b[0madd_documents\u001b[0m\u001b[1;33m(\u001b[0m\u001b[0mdocuments\u001b[0m\u001b[1;33m,\u001b[0m \u001b[0mprune_at\u001b[0m\u001b[1;33m=\u001b[0m\u001b[0mprune_at\u001b[0m\u001b[1;33m)\u001b[0m\u001b[1;33m\u001b[0m\u001b[1;33m\u001b[0m\u001b[0m\n\u001b[0m\u001b[0;32m     79\u001b[0m             self.add_lifecycle_event(\n\u001b[0;32m     80\u001b[0m                 \u001b[1;34m\"created\"\u001b[0m\u001b[1;33m,\u001b[0m\u001b[1;33m\u001b[0m\u001b[1;33m\u001b[0m\u001b[0m\n",
      "\u001b[1;32mc:\\users\\dxzha\\appdata\\local\\programs\\python\\python39\\lib\\site-packages\\gensim\\corpora\\dictionary.py\u001b[0m in \u001b[0;36madd_documents\u001b[1;34m(self, documents, prune_at)\u001b[0m\n\u001b[0;32m    200\u001b[0m \u001b[1;33m\u001b[0m\u001b[0m\n\u001b[0;32m    201\u001b[0m             \u001b[1;31m# update Dictionary with the document\u001b[0m\u001b[1;33m\u001b[0m\u001b[1;33m\u001b[0m\u001b[1;33m\u001b[0m\u001b[0m\n\u001b[1;32m--> 202\u001b[1;33m             \u001b[0mself\u001b[0m\u001b[1;33m.\u001b[0m\u001b[0mdoc2bow\u001b[0m\u001b[1;33m(\u001b[0m\u001b[0mdocument\u001b[0m\u001b[1;33m,\u001b[0m \u001b[0mallow_update\u001b[0m\u001b[1;33m=\u001b[0m\u001b[1;32mTrue\u001b[0m\u001b[1;33m)\u001b[0m  \u001b[1;31m# ignore the result, here we only care about updating token ids\u001b[0m\u001b[1;33m\u001b[0m\u001b[1;33m\u001b[0m\u001b[0m\n\u001b[0m\u001b[0;32m    203\u001b[0m \u001b[1;33m\u001b[0m\u001b[0m\n\u001b[0;32m    204\u001b[0m         \u001b[0mlogger\u001b[0m\u001b[1;33m.\u001b[0m\u001b[0minfo\u001b[0m\u001b[1;33m(\u001b[0m\u001b[1;34m\"built %s from %i documents (total %i corpus positions)\"\u001b[0m\u001b[1;33m,\u001b[0m \u001b[0mself\u001b[0m\u001b[1;33m,\u001b[0m \u001b[0mself\u001b[0m\u001b[1;33m.\u001b[0m\u001b[0mnum_docs\u001b[0m\u001b[1;33m,\u001b[0m \u001b[0mself\u001b[0m\u001b[1;33m.\u001b[0m\u001b[0mnum_pos\u001b[0m\u001b[1;33m)\u001b[0m\u001b[1;33m\u001b[0m\u001b[1;33m\u001b[0m\u001b[0m\n",
      "\u001b[1;32mc:\\users\\dxzha\\appdata\\local\\programs\\python\\python39\\lib\\site-packages\\gensim\\corpora\\dictionary.py\u001b[0m in \u001b[0;36mdoc2bow\u001b[1;34m(self, document, allow_update, return_missing)\u001b[0m\n\u001b[0;32m    237\u001b[0m         \"\"\"\n\u001b[0;32m    238\u001b[0m         \u001b[1;32mif\u001b[0m \u001b[0misinstance\u001b[0m\u001b[1;33m(\u001b[0m\u001b[0mdocument\u001b[0m\u001b[1;33m,\u001b[0m \u001b[0mstr\u001b[0m\u001b[1;33m)\u001b[0m\u001b[1;33m:\u001b[0m\u001b[1;33m\u001b[0m\u001b[1;33m\u001b[0m\u001b[0m\n\u001b[1;32m--> 239\u001b[1;33m             \u001b[1;32mraise\u001b[0m \u001b[0mTypeError\u001b[0m\u001b[1;33m(\u001b[0m\u001b[1;34m\"doc2bow expects an array of unicode tokens on input, not a single string\"\u001b[0m\u001b[1;33m)\u001b[0m\u001b[1;33m\u001b[0m\u001b[1;33m\u001b[0m\u001b[0m\n\u001b[0m\u001b[0;32m    240\u001b[0m \u001b[1;33m\u001b[0m\u001b[0m\n\u001b[0;32m    241\u001b[0m         \u001b[1;31m# Construct (word, frequency) mapping.\u001b[0m\u001b[1;33m\u001b[0m\u001b[1;33m\u001b[0m\u001b[1;33m\u001b[0m\u001b[0m\n",
      "\u001b[1;31mTypeError\u001b[0m: doc2bow expects an array of unicode tokens on input, not a single string"
     ]
    }
   ],
   "source": [
    "from gensim import corpora, models, similarities\n",
    "\n",
    "dictionary = corpora.Dictionary(go['post_lemma'])"
   ]
  },
  {
   "cell_type": "code",
   "execution_count": 91,
   "id": "774e6eae",
   "metadata": {},
   "outputs": [],
   "source": [
    "corpus = [dictionary.doc2bow(text) for text in go['post_gensim']]"
   ]
  },
  {
   "cell_type": "code",
   "execution_count": 100,
   "id": "ddc35a17",
   "metadata": {},
   "outputs": [
    {
     "data": {
      "text/plain": [
       "[(0,\n",
       "  '0.013*\"help\" + 0.009*\"organ\" + 0.008*\"famili\" + 0.007*\"need\" + 0.005*\"fundrais\" + 0.004*\"support\" + 0.004*\"dai\" + 0.004*\"work\" + 0.004*\"love\" + 0.004*\"donat\"'),\n",
       " (1,\n",
       "  '0.012*\"help\" + 0.008*\"famili\" + 0.008*\"organ\" + 0.005*\"know\" + 0.004*\"dai\" + 0.004*\"fundrais\" + 0.004*\"thank\" + 0.004*\"work\" + 0.004*\"need\" + 0.004*\"donat\"'),\n",
       " (2,\n",
       "  '0.008*\"famili\" + 0.008*\"help\" + 0.007*\"need\" + 0.006*\"organ\" + 0.006*\"dai\" + 0.005*\"time\" + 0.004*\"thank\" + 0.004*\"support\" + 0.004*\"donat\" + 0.004*\"septemb\"'),\n",
       " (3,\n",
       "  '0.012*\"famili\" + 0.012*\"help\" + 0.007*\"organ\" + 0.005*\"need\" + 0.005*\"home\" + 0.005*\"dai\" + 0.004*\"lost\" + 0.004*\"fund\" + 0.004*\"thank\" + 0.004*\"fundrais\"'),\n",
       " (4,\n",
       "  '0.012*\"help\" + 0.008*\"organ\" + 0.008*\"famili\" + 0.007*\"know\" + 0.006*\"need\" + 0.006*\"love\" + 0.005*\"work\" + 0.005*\"dai\" + 0.005*\"donat\" + 0.004*\"time\"')]"
      ]
     },
     "execution_count": 100,
     "metadata": {},
     "output_type": "execute_result"
    }
   ],
   "source": [
    "bag_model = models.LdaMulticore(corpus, num_topics=5, id2word=dictionary, passes=2, workers=2)\n",
    "bag_model.show_topics()"
   ]
  },
  {
   "cell_type": "code",
   "execution_count": 92,
   "id": "2621286c",
   "metadata": {},
   "outputs": [
    {
     "data": {
      "text/plain": [
       "[(0,\n",
       "  '0.001*\"know\" + 0.001*\"famili\" + 0.000*\"love\" + 0.000*\"home\" + 0.000*\"need\" + 0.000*\"donat\" + 0.000*\"agoaccid\" + 0.000*\"hous\" + 0.000*\"lost\" + 0.000*\"friend\"'),\n",
       " (1,\n",
       "  '0.000*\"know\" + 0.000*\"dai\" + 0.000*\"need\" + 0.000*\"support\" + 0.000*\"lost\" + 0.000*\"hous\" + 0.000*\"work\" + 0.000*\"fundraiser.cr\" + 0.000*\"famili\" + 0.000*\"life\"'),\n",
       " (2,\n",
       "  '0.000*\"home\" + 0.000*\"famili\" + 0.000*\"work\" + 0.000*\"live\" + 0.000*\"support\" + 0.000*\"dai\" + 0.000*\"ask\" + 0.000*\"know\" + 0.000*\"hous\" + 0.000*\"agoaccid\"'),\n",
       " (3,\n",
       "  '0.001*\"famili\" + 0.000*\"love\" + 0.000*\"need\" + 0.000*\"car\" + 0.000*\"medic\" + 0.000*\"financi\" + 0.000*\"know\" + 0.000*\"son\" + 0.000*\"home\" + 0.000*\"care\"'),\n",
       " (4,\n",
       "  '0.000*\"famili\" + 0.000*\"love\" + 0.000*\"car\" + 0.000*\"work\" + 0.000*\"accid\" + 0.000*\"time\" + 0.000*\"donat\" + 0.000*\"hospit\" + 0.000*\"friend\" + 0.000*\"need\"')]"
      ]
     },
     "execution_count": 92,
     "metadata": {},
     "output_type": "execute_result"
    }
   ],
   "source": [
    "tfidf = models.TfidfModel(corpus)\n",
    "transformed_tfidf = tfidf[corpus]\n",
    "\n",
    "lda = models.LdaMulticore(transformed_tfidf, num_topics=5, id2word = dictionary)\n",
    "lda.show_topics()"
   ]
  },
  {
   "cell_type": "code",
   "execution_count": 99,
   "id": "b60e24fe",
   "metadata": {},
   "outputs": [
    {
     "name": "stdout",
     "output_type": "stream",
     "text": [
      "0.9920701 1\n"
     ]
    }
   ],
   "source": [
    "bow_vector = dictionary.doc2bow(go['post_gensim'][5])\n",
    "for index, score in sorted(lda[bow_vector], key=lambda tup: -1*tup[1]):\n",
    "    print(score, index)\n"
   ]
  },
  {
   "cell_type": "code",
   "execution_count": 102,
   "id": "32095f2d",
   "metadata": {},
   "outputs": [],
   "source": [
    "#bigram\n",
    "def make_bigrams(texts):\n",
    "    return [bigram_mod[doc] for doc in texts]\n",
    "\n",
    "def make_trigrams(texts):\n",
    "    return [trigram_mod[bigram_mod[doc]] for doc in texts]\n",
    "\n",
    "def lemmatization(texts, allowed_postags=['NOUN', 'ADJ', 'VERB', 'ADV']):\n",
    "    texts_out = []\n",
    "    for sent in texts:\n",
    "        doc = nlp(\" \".join(sent)) \n",
    "        texts_out.append([token.lemma_ for token in doc if token.pos_ in allowed_postags])\n",
    "    return texts_out"
   ]
  },
  {
   "cell_type": "code",
   "execution_count": 106,
   "id": "ac83d306",
   "metadata": {},
   "outputs": [
    {
     "ename": "TypeError",
     "evalue": "'module' object is not callable",
     "output_type": "error",
     "traceback": [
      "\u001b[1;31m---------------------------------------------------------------------------\u001b[0m",
      "\u001b[1;31mTypeError\u001b[0m                                 Traceback (most recent call last)",
      "\u001b[1;32m<ipython-input-106-4e237a8c2046>\u001b[0m in \u001b[0;36m<module>\u001b[1;34m\u001b[0m\n\u001b[0;32m      1\u001b[0m \u001b[1;32mimport\u001b[0m \u001b[0mgensim\u001b[0m\u001b[1;33m\u001b[0m\u001b[1;33m\u001b[0m\u001b[0m\n\u001b[1;32m----> 2\u001b[1;33m \u001b[0mbigram\u001b[0m \u001b[1;33m=\u001b[0m \u001b[0mgensim\u001b[0m\u001b[1;33m.\u001b[0m\u001b[0mmodels\u001b[0m\u001b[1;33m.\u001b[0m\u001b[0mphrases\u001b[0m\u001b[1;33m(\u001b[0m\u001b[0mgo\u001b[0m\u001b[1;33m[\u001b[0m\u001b[1;34m'post_gensim'\u001b[0m\u001b[1;33m]\u001b[0m\u001b[1;33m,\u001b[0m \u001b[0mmin_count\u001b[0m\u001b[1;33m=\u001b[0m\u001b[1;36m5\u001b[0m\u001b[1;33m,\u001b[0m \u001b[0mthreshold\u001b[0m\u001b[1;33m=\u001b[0m\u001b[1;36m100\u001b[0m\u001b[1;33m)\u001b[0m\u001b[1;33m\u001b[0m\u001b[1;33m\u001b[0m\u001b[0m\n\u001b[0m",
      "\u001b[1;31mTypeError\u001b[0m: 'module' object is not callable"
     ]
    }
   ],
   "source": [
    "\n",
    "bigram = gensim.models.phrases(go['post_gensim'], min_count=5, threshold=100)"
   ]
  },
  {
   "cell_type": "markdown",
   "id": "9a36133b",
   "metadata": {},
   "source": [
    "## Spacy try again"
   ]
  },
  {
   "cell_type": "code",
   "execution_count": 130,
   "id": "8a58e715",
   "metadata": {
    "scrolled": true
   },
   "outputs": [
    {
     "data": {
      "text/html": [
       "<div>\n",
       "<style scoped>\n",
       "    .dataframe tbody tr th:only-of-type {\n",
       "        vertical-align: middle;\n",
       "    }\n",
       "\n",
       "    .dataframe tbody tr th {\n",
       "        vertical-align: top;\n",
       "    }\n",
       "\n",
       "    .dataframe thead th {\n",
       "        text-align: right;\n",
       "    }\n",
       "</style>\n",
       "<table border=\"1\" class=\"dataframe\">\n",
       "  <thead>\n",
       "    <tr style=\"text-align: right;\">\n",
       "      <th></th>\n",
       "      <th>update</th>\n",
       "      <th>title</th>\n",
       "      <th>post</th>\n",
       "      <th>fundraiser</th>\n",
       "      <th>image_labels</th>\n",
       "      <th>current_raised</th>\n",
       "      <th>goal_fund</th>\n",
       "      <th>Self-raised</th>\n",
       "      <th>goal_precentage</th>\n",
       "      <th>post_split</th>\n",
       "      <th>post_split_tokenized</th>\n",
       "      <th>post_lemma</th>\n",
       "      <th>post_gensim</th>\n",
       "      <th>trial</th>\n",
       "    </tr>\n",
       "  </thead>\n",
       "  <tbody>\n",
       "    <tr>\n",
       "      <th>0</th>\n",
       "      <td>NaN</td>\n",
       "      <td>Marley's Recovery</td>\n",
       "      <td>Kristina Webb is organizing this fundraiser.Cr...</td>\n",
       "      <td>Kristina Webb is organizing this fundraiser.</td>\n",
       "      <td>['Nose', 'Cheek', 'Lip', 'Eyebrow', 'Eyelash',...</td>\n",
       "      <td>7620</td>\n",
       "      <td>5000</td>\n",
       "      <td>1</td>\n",
       "      <td>1.52</td>\n",
       "      <td>hi, my name is kristina webb. i'm starting thi...</td>\n",
       "      <td>['hi', 'my', 'name', 'is', 'kristina', 'webb',...</td>\n",
       "      <td>['hi', 'name', 'be', 'kristina', 'webb', 'be',...</td>\n",
       "      <td>[kristina, webb, organ, fundraiser.cr, dai, ag...</td>\n",
       "      <td>[h,  , m, y,  , n, m, e,  , s,  , k, r, s, t, ...</td>\n",
       "    </tr>\n",
       "    <tr>\n",
       "      <th>1</th>\n",
       "      <td>NaN</td>\n",
       "      <td>Help myan get epidural stimulation surgery</td>\n",
       "      <td>Christopoher Clark is organizing this fundrais...</td>\n",
       "      <td>Christopoher Clark is organizing this fundraiser.</td>\n",
       "      <td>[]</td>\n",
       "      <td>900</td>\n",
       "      <td>215000</td>\n",
       "      <td>1</td>\n",
       "      <td>0.00</td>\n",
       "      <td>myan was in a bad car accident a little over a...</td>\n",
       "      <td>['myan', 'was', 'in', 'a', 'bad', 'car', 'acci...</td>\n",
       "      <td>['myan', 'be', 'in', 'a', 'bad', 'car', 'accid...</td>\n",
       "      <td>[christopoh, clark, organ, fundraiser.cr, dai,...</td>\n",
       "      <td>[m, y, n,  , w, s,  , n,  ,  , b, d,  , c, r, ...</td>\n",
       "    </tr>\n",
       "    <tr>\n",
       "      <th>3</th>\n",
       "      <td>NaN</td>\n",
       "      <td>Emergency Financial Aid to Support Salvatore</td>\n",
       "      <td>Giulianna Zetterlund is organizing this fundra...</td>\n",
       "      <td>Giulianna Zetterlund is organizing this fundra...</td>\n",
       "      <td>[]</td>\n",
       "      <td>170761</td>\n",
       "      <td>200000</td>\n",
       "      <td>0</td>\n",
       "      <td>0.85</td>\n",
       "      <td>giulianna zetterlund is organizing this fundra...</td>\n",
       "      <td>['giulianna', 'zetterlund', 'is', 'organizing'...</td>\n",
       "      <td>['giulianna', 'zetterlund', 'be', 'organize', ...</td>\n",
       "      <td>[giulianna, zetterlund, organ, fundrais, behal...</td>\n",
       "      <td>[g, u, l, n, n,  , z, e, t, t, e, r, l, u, n, ...</td>\n",
       "    </tr>\n",
       "    <tr>\n",
       "      <th>4</th>\n",
       "      <td>NaN</td>\n",
       "      <td>360 Community Management- Help Eric's children</td>\n",
       "      <td>Rachael Robenolt is organizing this fundraiser...</td>\n",
       "      <td>Rachael Robenolt is organizing this fundraiser.</td>\n",
       "      <td>[]</td>\n",
       "      <td>5585</td>\n",
       "      <td>5000</td>\n",
       "      <td>1</td>\n",
       "      <td>1.12</td>\n",
       "      <td>hi everyone. we are devastated to report that ...</td>\n",
       "      <td>['hi', 'everyone', 'we', 'are', 'devastated', ...</td>\n",
       "      <td>['hi', 'everyone', 'be', 'devastate', 'to', 'r...</td>\n",
       "      <td>[rachael, robenolt, organ, fundraiser.cr, dai,...</td>\n",
       "      <td>[h,  , e, v, e, r, y, o, n, e,  , w, e,  , r, ...</td>\n",
       "    </tr>\n",
       "    <tr>\n",
       "      <th>5</th>\n",
       "      <td>NaN</td>\n",
       "      <td>Help Support Lynda VanderBilt</td>\n",
       "      <td>Miranda Homrich is organizing this fundraiser....</td>\n",
       "      <td>Miranda Homrich is organizing this fundraiser.</td>\n",
       "      <td>[]</td>\n",
       "      <td>4100</td>\n",
       "      <td>4500</td>\n",
       "      <td>1</td>\n",
       "      <td>0.91</td>\n",
       "      <td>hi all,\\n\\n\\n \\n\\n\\nmost of you know my amazin...</td>\n",
       "      <td>['hi', 'all', 'most', 'of', 'you', 'know', 'my...</td>\n",
       "      <td>['hi', 'all', 'most', 'of', 'know', 'amazing',...</td>\n",
       "      <td>[miranda, homrich, organ, fundraiser.cr, dai, ...</td>\n",
       "      <td>[h,  , l, l,  , m, o, s, t,  , o, f,  , y, o, ...</td>\n",
       "    </tr>\n",
       "  </tbody>\n",
       "</table>\n",
       "</div>"
      ],
      "text/plain": [
       "  update                                           title  \\\n",
       "0    NaN                               Marley's Recovery   \n",
       "1    NaN      Help myan get epidural stimulation surgery   \n",
       "3    NaN    Emergency Financial Aid to Support Salvatore   \n",
       "4    NaN  360 Community Management- Help Eric's children   \n",
       "5    NaN                   Help Support Lynda VanderBilt   \n",
       "\n",
       "                                                post  \\\n",
       "0  Kristina Webb is organizing this fundraiser.Cr...   \n",
       "1  Christopoher Clark is organizing this fundrais...   \n",
       "3  Giulianna Zetterlund is organizing this fundra...   \n",
       "4  Rachael Robenolt is organizing this fundraiser...   \n",
       "5  Miranda Homrich is organizing this fundraiser....   \n",
       "\n",
       "                                          fundraiser  \\\n",
       "0       Kristina Webb is organizing this fundraiser.   \n",
       "1  Christopoher Clark is organizing this fundraiser.   \n",
       "3  Giulianna Zetterlund is organizing this fundra...   \n",
       "4    Rachael Robenolt is organizing this fundraiser.   \n",
       "5     Miranda Homrich is organizing this fundraiser.   \n",
       "\n",
       "                                        image_labels  current_raised  \\\n",
       "0  ['Nose', 'Cheek', 'Lip', 'Eyebrow', 'Eyelash',...            7620   \n",
       "1                                                 []             900   \n",
       "3                                                 []          170761   \n",
       "4                                                 []            5585   \n",
       "5                                                 []            4100   \n",
       "\n",
       "   goal_fund  Self-raised  goal_precentage  \\\n",
       "0       5000            1             1.52   \n",
       "1     215000            1             0.00   \n",
       "3     200000            0             0.85   \n",
       "4       5000            1             1.12   \n",
       "5       4500            1             0.91   \n",
       "\n",
       "                                          post_split  \\\n",
       "0  hi, my name is kristina webb. i'm starting thi...   \n",
       "1  myan was in a bad car accident a little over a...   \n",
       "3  giulianna zetterlund is organizing this fundra...   \n",
       "4  hi everyone. we are devastated to report that ...   \n",
       "5  hi all,\\n\\n\\n \\n\\n\\nmost of you know my amazin...   \n",
       "\n",
       "                                post_split_tokenized  \\\n",
       "0  ['hi', 'my', 'name', 'is', 'kristina', 'webb',...   \n",
       "1  ['myan', 'was', 'in', 'a', 'bad', 'car', 'acci...   \n",
       "3  ['giulianna', 'zetterlund', 'is', 'organizing'...   \n",
       "4  ['hi', 'everyone', 'we', 'are', 'devastated', ...   \n",
       "5  ['hi', 'all', 'most', 'of', 'you', 'know', 'my...   \n",
       "\n",
       "                                          post_lemma  \\\n",
       "0  ['hi', 'name', 'be', 'kristina', 'webb', 'be',...   \n",
       "1  ['myan', 'be', 'in', 'a', 'bad', 'car', 'accid...   \n",
       "3  ['giulianna', 'zetterlund', 'be', 'organize', ...   \n",
       "4  ['hi', 'everyone', 'be', 'devastate', 'to', 'r...   \n",
       "5  ['hi', 'all', 'most', 'of', 'know', 'amazing',...   \n",
       "\n",
       "                                         post_gensim  \\\n",
       "0  [kristina, webb, organ, fundraiser.cr, dai, ag...   \n",
       "1  [christopoh, clark, organ, fundraiser.cr, dai,...   \n",
       "3  [giulianna, zetterlund, organ, fundrais, behal...   \n",
       "4  [rachael, robenolt, organ, fundraiser.cr, dai,...   \n",
       "5  [miranda, homrich, organ, fundraiser.cr, dai, ...   \n",
       "\n",
       "                                               trial  \n",
       "0  [h,  , m, y,  , n, m, e,  , s,  , k, r, s, t, ...  \n",
       "1  [m, y, n,  , w, s,  , n,  ,  , b, d,  , c, r, ...  \n",
       "3  [g, u, l, n, n,  , z, e, t, t, e, r, l, u, n, ...  \n",
       "4  [h,  , e, v, e, r, y, o, n, e,  , w, e,  , r, ...  \n",
       "5  [h,  , l, l,  , m, o, s, t,  , o, f,  , y, o, ...  "
      ]
     },
     "execution_count": 130,
     "metadata": {},
     "output_type": "execute_result"
    }
   ],
   "source": [
    "go.head()"
   ]
  },
  {
   "cell_type": "code",
   "execution_count": 140,
   "id": "b92414b6",
   "metadata": {},
   "outputs": [],
   "source": [
    "go['post_split'] = go['post_split'].apply(lambda x: x.replace('\\n', ''))"
   ]
  },
  {
   "cell_type": "code",
   "execution_count": 147,
   "id": "9880c6c4",
   "metadata": {},
   "outputs": [
    {
     "data": {
      "text/plain": [
       "0      hi kristina webb start fundraiser help support...\n",
       "1      myan bad car accident little year ago leave qu...\n",
       "3      giulianna zetterlund organize fundraiser behal...\n",
       "4      hi devastate report maintenance employee suffe...\n",
       "5      hi know amazing incredible aunt lynda integral...\n",
       "                             ...                        \n",
       "985    yesterday freddie know son pass away pm shoot ...\n",
       "986    september sister maggi life flight boise hospi...\n",
       "987    melissa powarzynski organize melissa start fun...\n",
       "988    friday september beloved co worker friend fami...\n",
       "989    amber lucente organize september evan sister a...\n",
       "Name: trial, Length: 989, dtype: object"
      ]
     },
     "execution_count": 147,
     "metadata": {},
     "output_type": "execute_result"
    }
   ],
   "source": [
    "go['trial'] = go['post_split'].apply(lambda text: \" \".join(token.lemma_ for token in nlp(text) \n",
    "                                                   if not token.is_stop and not token.is_punct and not token.is_space and token.text.isalpha()))\n",
    "go['trial']"
   ]
  },
  {
   "cell_type": "code",
   "execution_count": 150,
   "id": "f2a8a0c1",
   "metadata": {},
   "outputs": [],
   "source": [
    "import nltk\n",
    "go['trial_token'] = go['trial'].apply(nltk.word_tokenize)"
   ]
  },
  {
   "cell_type": "code",
   "execution_count": 151,
   "id": "50923485",
   "metadata": {},
   "outputs": [],
   "source": [
    "from gensim import corpora, models, similarities\n",
    "\n",
    "dictionary = corpora.Dictionary(go['trial_token'])"
   ]
  },
  {
   "cell_type": "code",
   "execution_count": 152,
   "id": "9d5bb90b",
   "metadata": {},
   "outputs": [],
   "source": [
    "corpus = [dictionary.doc2bow(text) for text in go['trial_token']]"
   ]
  },
  {
   "cell_type": "code",
   "execution_count": 178,
   "id": "665a901c",
   "metadata": {},
   "outputs": [
    {
     "data": {
      "text/plain": [
       "[(0,\n",
       "  '0.017*\"family\" + 0.014*\"help\" + 0.009*\"need\" + 0.007*\"love\" + 0.006*\"year\" + 0.006*\"time\" + 0.006*\"know\" + 0.006*\"home\" + 0.006*\"work\" + 0.005*\"life\"'),\n",
       " (1,\n",
       "  '0.021*\"help\" + 0.013*\"family\" + 0.009*\"know\" + 0.008*\"need\" + 0.008*\"home\" + 0.007*\"time\" + 0.006*\"work\" + 0.006*\"life\" + 0.006*\"support\" + 0.005*\"friend\"'),\n",
       " (2,\n",
       "  '0.011*\"help\" + 0.010*\"family\" + 0.008*\"de\" + 0.007*\"time\" + 0.007*\"need\" + 0.005*\"y\" + 0.005*\"friend\" + 0.005*\"hospital\" + 0.005*\"work\" + 0.005*\"life\"')]"
      ]
     },
     "execution_count": 178,
     "metadata": {},
     "output_type": "execute_result"
    }
   ],
   "source": [
    "bag_model = models.LdaMulticore(corpus, num_topics=3, id2word=dictionary, passes=2, workers=2, random_state=1, alpha=0.65)\n",
    "bag_model.show_topics()"
   ]
  },
  {
   "cell_type": "code",
   "execution_count": 177,
   "id": "551b59b0",
   "metadata": {},
   "outputs": [
    {
     "data": {
      "text/plain": [
       "[(0,\n",
       "  '0.001*\"family\" + 0.001*\"love\" + 0.001*\"fire\" + 0.001*\"home\" + 0.001*\"need\" + 0.001*\"house\" + 0.001*\"year\" + 0.001*\"work\" + 0.001*\"know\" + 0.001*\"bill\"'),\n",
       " (1,\n",
       "  '0.001*\"home\" + 0.001*\"know\" + 0.001*\"fire\" + 0.001*\"family\" + 0.001*\"love\" + 0.001*\"support\" + 0.001*\"work\" + 0.001*\"need\" + 0.001*\"lose\" + 0.001*\"hospital\"'),\n",
       " (2,\n",
       "  '0.001*\"fire\" + 0.001*\"house\" + 0.001*\"time\" + 0.001*\"family\" + 0.001*\"home\" + 0.001*\"know\" + 0.001*\"friend\" + 0.001*\"accident\" + 0.001*\"lose\" + 0.001*\"work\"')]"
      ]
     },
     "execution_count": 177,
     "metadata": {},
     "output_type": "execute_result"
    }
   ],
   "source": [
    "tfidf = models.TfidfModel(corpus)\n",
    "transformed_tfidf = tfidf[corpus]\n",
    "\n",
    "lda = models.LdaMulticore(transformed_tfidf, num_topics=3, id2word = dictionary, random_state=1, alpha=0.6)\n",
    "lda.show_topics()"
   ]
  },
  {
   "cell_type": "code",
   "execution_count": 171,
   "id": "0a8ba832",
   "metadata": {},
   "outputs": [
    {
     "data": {
      "text/html": [
       "\n",
       "<link rel=\"stylesheet\" type=\"text/css\" href=\"https://cdn.jsdelivr.net/gh/bmabey/pyLDAvis@3.3.1/pyLDAvis/js/ldavis.v1.0.0.css\">\n",
       "\n",
       "\n",
       "<div id=\"ldavis_el1882817969014115207689610890\"></div>\n",
       "<script type=\"text/javascript\">\n",
       "\n",
       "var ldavis_el1882817969014115207689610890_data = {\"mdsDat\": {\"x\": [-0.011448950516844294, 0.0155690089883311, -0.004468865296352556, -0.00010804256369199353, 0.00045684938855774235], \"y\": [-0.01209377412520547, -0.005542897981344307, 0.011384615129711726, 0.007335084087343094, -0.0010830271105050381], \"topics\": [1, 2, 3, 4, 5], \"cluster\": [1, 1, 1, 1, 1], \"Freq\": [33.71678140688559, 25.098751229172482, 21.222207124929483, 12.173937673984423, 7.788322565028021]}, \"tinfo\": {\"Term\": [\"jacob\", \"brian\", \"y\", \"wendy\", \"sarah\", \"home\", \"de\", \"chase\", \"memory\", \"tim\", \"cassandra\", \"mac\", \"place\", \"sick\", \"max\", \"time\", \"leg\", \"accident\", \"car\", \"joshua\", \"recover\", \"fractured\", \"know\", \"belonging\", \"support\", \"pray\", \"farm\", \"house\", \"break\", \"donation\", \"brian\", \"everlee\", \"nisa\", \"wendye\", \"rep\", \"fatema\", \"ricky\", \"malik\", \"afghan\", \"ty\", \"ryan\", \"kaitlyn\", \"elle\", \"tyndall\", \"natalia\", \"kaiyo\", \"yulia\", \"yr\", \"aiden\", \"penny\", \"barbara\", \"heath\", \"parker\", \"miami\", \"bob\", \"rosa\", \"andy\", \"naquita\", \"bachu\", \"bryce\", \"file\", \"joe\", \"niece\", \"angela\", \"book\", \"linda\", \"philip\", \"wife\", \"leslie\", \"son\", \"man\", \"daily\", \"brain\", \"community\", \"family\", \"love\", \"friend\", \"prayer\", \"dad\", \"jason\", \"bill\", \"recovery\", \"medical\", \"old\", \"hi\", \"year\", \"life\", \"work\", \"fire\", \"child\", \"cost\", \"car\", \"lose\", \"little\", \"fight\", \"get\", \"know\", \"time\", \"home\", \"need\", \"support\", \"fund\", \"go\", \"hospital\", \"donation\", \"house\", \"accident\", \"appreciate\", \"jordan\", \"johanna\", \"charlie\", \"destiny\", \"cerifi\", \"bruce\", \"patty\", \"jamilyn\", \"grenada\", \"lanieyah\", \"bryson\", \"patti\", \"daisy\", \"crop\", \"marrisha\", \"guerra\", \"denny\", \"farm\", \"echo\", \"tea\", \"cleto\", \"jelani\", \"gary\", \"keyveon\", \"brandt\", \"teasia\", \"pat\", \"kwaku\", \"emelda\", \"minh\", \"tara\", \"salvageable\", \"maria\", \"michael\", \"tool\", \"water\", \"scott\", \"ida\", \"denise\", \"chris\", \"know\", \"beautiful\", \"good\", \"go\", \"business\", \"mother\", \"come\", \"love\", \"need\", \"baby\", \"share\", \"fire\", \"people\", \"apartment\", \"appreciate\", \"flood\", \"donate\", \"bill\", \"home\", \"start\", \"work\", \"loss\", \"hospital\", \"house\", \"lose\", \"family\", \"year\", \"medical\", \"ask\", \"support\", \"child\", \"life\", \"thank\", \"fund\", \"surgery\", \"friend\", \"time\", \"jared\", \"karl\", \"richard\", \"perry\", \"charlotte\", \"silo\", \"jake\", \"rilynn\", \"freddie\", \"dakota\", \"cabdibari\", \"hilt\", \"annie\", \"larissa\", \"barajas\", \"yanni\", \"kara\", \"pepper\", \"madalyn\", \"snyder\", \"flinn\", \"kali\", \"tommie\", \"bam\", \"nell\", \"tristan\", \"jorge\", \"dom\", \"estela\", \"ruth\", \"sean\", \"victor\", \"eric\", \"frank\", \"sarah\", \"y\", \"el\", \"su\", \"de\", \"husband\", \"austin\", \"que\", \"home\", \"family\", \"fire\", \"en\", \"class\", \"house\", \"john\", \"time\", \"accident\", \"like\", \"support\", \"hospital\", \"work\", \"father\", \"happen\", \"need\", \"know\", \"surgery\", \"friend\", \"appreciate\", \"child\", \"thank\", \"recovery\", \"long\", \"donation\", \"injury\", \"lose\", \"life\", \"year\", \"son\", \"go\", \"iris\", \"nick\", \"mac\", \"kristal\", \"sunny\", \"fernando\", \"matt\", \"baset\", \"ramano\", \"tobin\", \"holden\", \"gunnar\", \"carolyn\", \"zade\", \"tijan\", \"slinger\", \"harlin\", \"shibinsky\", \"branda\", \"bebe\", \"leeann\", \"laymon\", \"cathleen\", \"trophy\", \"vlad\", \"schuler\", \"morgan\", \"alyssa\", \"benwitt\", \"todd\", \"cassandra\", \"michele\", \"adam\", \"grace\", \"alex\", \"leg\", \"home\", \"de\", \"car\", \"recover\", \"heal\", \"fire\", \"y\", \"new\", \"destroy\", \"house\", \"know\", \"work\", \"family\", \"able\", \"lose\", \"time\", \"friend\", \"support\", \"hospital\", \"love\", \"need\", \"year\", \"en\", \"prayer\", \"life\", \"accident\", \"thank\", \"expense\", \"money\", \"let\", \"ask\", \"god\", \"try\", \"jacob\", \"sandy\", \"mirko\", \"najib\", \"zaki\", \"davin\", \"billy\", \"arty\", \"myers\", \"roberts\", \"bacardi\", \"walt\", \"rozanne\", \"wendy\", \"joycie\", \"suzanne\", \"kaleb\", \"grove\", \"grammy\", \"carver\", \"downers\", \"watson\", \"hank\", \"zach\", \"valentine\", \"mickey\", \"salinas\", \"bethany\", \"demere\", \"joshua\", \"max\", \"norma\", \"cassandra\", \"fractured\", \"chase\", \"tim\", \"donation\", \"sick\", \"place\", \"accident\", \"september\", \"memory\", \"love\", \"need\", \"pray\", \"time\", \"know\", \"family\", \"home\", \"support\", \"surgery\", \"expense\", \"damage\", \"way\", \"hospital\", \"lose\", \"break\", \"car\", \"bill\", \"child\", \"life\", \"fire\", \"house\", \"heart\", \"thing\", \"community\", \"medical\", \"donate\", \"cost\", \"day\", \"friend\", \"work\"], \"Freq\": [12.0, 22.0, 54.0, 11.0, 24.0, 91.0, 67.0, 18.0, 24.0, 15.0, 11.0, 12.0, 35.0, 12.0, 11.0, 77.0, 43.0, 71.0, 70.0, 11.0, 37.0, 18.0, 89.0, 24.0, 76.0, 40.0, 25.0, 77.0, 47.0, 63.0, 16.504831136784375, 9.63801954028485, 9.140237382716649, 9.017665739121414, 8.848741005365259, 8.700233369002376, 9.310029606716942, 8.64906844379467, 16.42570943933033, 8.32810130326259, 25.310579580638084, 9.22777899466524, 8.221911041577027, 8.064495826271271, 8.242862019983992, 7.588409424404758, 7.854480847331955, 9.38800173351066, 8.617495092502347, 9.016592664845136, 7.452108804771854, 7.3808131123861775, 9.2369489987034, 8.58788249227623, 10.2468978213908, 7.145465612153399, 10.78171485333766, 7.114820310742588, 7.042980112845435, 7.010897848109215, 8.78407499959737, 18.84958448888053, 11.758951909795082, 11.835344173768181, 9.94108865184846, 9.799118800197526, 9.320468175790621, 29.810258382907307, 13.49802282971899, 31.330126789432395, 20.323276703132816, 14.587430146440216, 23.67038661179927, 27.449157116069504, 37.77387619638547, 34.11820749814994, 31.38926699390235, 27.91169037733669, 20.32792385846394, 15.721486915102549, 29.256284319004468, 27.12022691444763, 27.9881017654058, 25.662069840856446, 22.923165682586156, 28.316458244147288, 28.653409941596774, 30.512956291702952, 33.45251471513916, 27.458153940793768, 23.514161871470314, 27.14342656781077, 28.608895420777532, 22.245305724712086, 20.428000252899174, 23.624089300251722, 30.28150585725768, 27.807825286991353, 29.813118497711006, 27.86431574171375, 26.71086076499572, 24.753133430859133, 25.28729068149355, 25.616401499577766, 24.21472638111075, 25.397691962876163, 24.77754002717064, 24.359929267437636, 11.792320685251942, 10.272440000616957, 9.69033454526327, 7.806293915205455, 7.450265078598863, 6.841296356826318, 6.738747581178064, 6.686691401595854, 6.4000110924668725, 6.3538917058356486, 6.26762491999382, 6.221142911692307, 7.001579089528988, 5.991080618119861, 5.981107929021687, 5.900386447086584, 5.911367517056338, 15.227323066511156, 5.861313467808561, 7.050940717244948, 5.833463174465991, 5.793512706107955, 6.471993273514959, 5.756301870172781, 6.737645084758471, 5.762515473559102, 7.5801896154148265, 5.719465914655746, 5.652891818627155, 5.606849148030866, 6.496080526710884, 7.727025688055863, 6.3915695605195815, 14.198015326020991, 9.8530247378664, 18.346701444079244, 11.251167356588727, 13.236844869632105, 7.405753960596938, 13.103328915139405, 25.516514052900693, 14.590861532301101, 19.263280902883437, 21.278677575151377, 15.209456930127654, 17.8452506407127, 18.714291466239356, 22.993342645149234, 21.984577402508783, 15.096480309936839, 16.04338395648854, 23.895497907611578, 17.154516861663836, 13.39293194702205, 19.165878428671547, 13.129273170912953, 17.711962461663934, 19.57272175233613, 22.379206267992455, 16.455937483990613, 20.544370670032894, 15.965339231463131, 19.1167279677734, 19.242319234945928, 19.18560156763267, 20.98512722646085, 18.166134042675196, 17.685086541053746, 17.180124199593234, 18.240017120527078, 17.723702387669984, 17.893230588912857, 17.075481946166885, 16.914520632454163, 16.867575164395202, 17.2148473006017, 17.07404727722489, 7.289843291914892, 6.1305676362725166, 6.087491859490586, 6.06664142877236, 6.031700790695559, 6.024128725298256, 8.6802491719569, 5.932496903613678, 5.6409091905353845, 5.9192626746803025, 5.456791240573887, 5.431931754653257, 5.278678179885116, 5.286242220484682, 5.274070942884788, 5.227276341085248, 5.77379181625004, 5.163491905011765, 5.011341071199214, 5.0168179956542085, 5.012684556086892, 4.958602769209687, 4.896398883923674, 4.801020484795981, 4.804603891351792, 5.140394530927387, 4.706030953991924, 4.665669565044282, 4.641692806874639, 8.586505491001397, 11.36627670231228, 5.834146320024418, 13.868804526498426, 9.049894092615752, 11.005532619809225, 19.561297785615604, 12.838262676141062, 10.538424524444116, 20.437663209465157, 15.207725979197198, 9.38871777136908, 12.628975951179516, 21.83125760914104, 22.46138211445359, 22.196071601562664, 11.552140380147984, 8.916436356396664, 18.126189769783785, 10.284745287138747, 17.75490244052158, 16.544690718714612, 13.904054788021218, 16.693049166863638, 16.539903926864934, 17.06286528320753, 13.35294511615242, 11.091329076073256, 16.57461117707424, 17.081302256006577, 14.873866306576888, 15.771007931765606, 14.854497119774146, 15.027485009642028, 14.628334245173255, 14.40018389566635, 13.965661160242451, 14.144277108256029, 13.775937554695608, 14.888344379159383, 14.698376017281582, 14.21593988950708, 13.97554503612094, 13.93028250195588, 4.646246852672104, 4.7495630540172264, 5.4923138761200585, 3.6047044285089282, 3.571166290299931, 3.5145488401041574, 4.708332706909755, 3.4574438177205735, 3.435425963045889, 3.400628039577437, 3.3756625022189377, 3.3689366145959108, 3.536068765038655, 3.3039099827093614, 3.289907339122085, 3.1631145944758847, 3.140645227240184, 3.1235333998746246, 2.938858432803533, 2.9303857631528185, 2.8162627985482263, 2.775064674937039, 2.723247566654842, 2.721809593133202, 2.69946758543043, 2.5851806262465393, 3.2272548884081194, 3.942989377781854, 2.5733083777379417, 3.0949613244172323, 3.750592471800837, 4.011887816192057, 5.134663372807002, 5.63988636431887, 4.900135779887838, 8.021539935522936, 12.325000906994836, 10.128547660935194, 10.074579442469563, 7.0914509127425065, 5.699617985262589, 11.604236483296507, 8.499974460457995, 8.124418050763827, 6.9165110858729415, 10.07771279387006, 10.720051365423771, 10.301835650007192, 11.115002483749947, 8.702557443781979, 9.783447825811411, 9.59760187990217, 9.630575723313159, 9.477129735690623, 9.001566938055284, 9.342393323791025, 8.93624070437591, 8.502553107386758, 6.240477478372376, 8.129098129985918, 8.466672244275358, 8.309638707399953, 8.045915476009013, 7.640688131272888, 7.416366563575342, 6.552920334465287, 7.281061637134175, 6.814204554078027, 6.9264857924248115, 4.607219871464243, 2.732420528242567, 2.426232497096045, 2.417698089730399, 2.2853186944562336, 2.2687142103859275, 2.2669032717245012, 2.2638748148764183, 2.217547033055558, 2.2102345613987127, 2.184921177838045, 2.1384206218177475, 2.106707966594701, 3.479696182193322, 2.0296068665512825, 1.9936925342238925, 1.993173966207685, 1.9593827441066125, 1.953930785526373, 1.9434007625318623, 1.8876100347323312, 2.3773067214183126, 2.534865256663526, 2.349736965713295, 1.7969399018767522, 2.5031081808011355, 1.779066116443538, 1.991294065117222, 1.751546180571597, 2.965493904954409, 3.059624920992457, 2.1953070178181107, 2.5098247778042415, 3.381843403748372, 3.316137179368236, 2.889821505197953, 5.297845466849376, 2.593243793477207, 4.060672742499798, 5.417908810384142, 4.827897681038081, 3.4237080156957127, 5.699614688386888, 5.539574241950049, 4.166566638337571, 5.362492958422167, 5.576204335573828, 5.724021007400513, 5.531927020281795, 5.154826224071825, 4.813579019259756, 4.664397823926155, 4.168068595866766, 4.331895349617399, 4.910706587819286, 4.9292518366184925, 4.204606903197093, 4.753235666763275, 4.754682650683558, 4.703601369617114, 4.727307756788702, 5.058509516243743, 4.6729638902005055, 4.320118726415446, 4.066278332683514, 4.367600217769762, 4.419147792840369, 4.288271336766987, 4.251897950263394, 4.253481386534369, 4.278190551232801, 4.275672072774533], \"Total\": [12.0, 22.0, 54.0, 11.0, 24.0, 91.0, 67.0, 18.0, 24.0, 15.0, 11.0, 12.0, 35.0, 12.0, 11.0, 77.0, 43.0, 71.0, 70.0, 11.0, 37.0, 18.0, 89.0, 24.0, 76.0, 40.0, 25.0, 77.0, 47.0, 63.0, 22.405871948688212, 13.326660581874735, 12.824936295877313, 12.702525662771295, 12.535072223075492, 12.382482901021795, 13.255020921710504, 12.341069637973515, 23.531903740383378, 12.022538380848708, 36.564073011758275, 13.343269232810721, 11.918105537920777, 11.745980054347346, 12.027685947372557, 11.267434278699168, 11.668581257733539, 13.976257713512274, 12.834028431541597, 13.43690195735636, 11.128145933958107, 11.061240636188874, 13.86629305681039, 12.899287900621092, 15.45035662164179, 10.830593260737329, 16.346982760544225, 10.798377729357735, 10.723909903298926, 10.686949923585077, 13.462749530138117, 29.726238865565154, 18.413245778092712, 18.58318134317223, 15.424685973809533, 15.265934868830996, 14.445595381577709, 62.64788828656566, 23.20191601263443, 68.41245266621864, 40.17096875915219, 25.93041577525837, 51.00255343138229, 62.520389034409696, 98.05940902845036, 85.16069467517991, 78.2838885008156, 66.53800268474858, 42.35282938953942, 29.498213035443236, 71.89355970001563, 65.4657016293631, 68.6223285098381, 60.79055928907912, 52.268664614805516, 72.51769292919298, 74.43899654885529, 82.6976999677251, 96.20683022385364, 71.50906094063419, 56.19527881260413, 70.8673056660795, 77.39554102999949, 51.63671168036257, 44.98906512229394, 57.82207807599922, 89.17557786716256, 77.59686984306215, 91.88051030212112, 80.89931926762273, 76.27588301214888, 66.04195954847415, 70.47810874567223, 75.18530692009067, 63.0818193397285, 77.51687765167644, 71.51596089731521, 68.42120860794194, 16.369259783400846, 14.415832951392865, 14.39102757944232, 11.932579372419465, 11.613669867933831, 10.971288570060661, 10.86643849963256, 10.813938900871253, 10.523460910066696, 10.47771228608666, 10.40522487276631, 10.34569488656565, 11.679779572991485, 10.111787028664027, 10.10767954701354, 10.02620755895018, 10.044880387242346, 25.907892142824892, 9.983112738689465, 12.023989291395369, 9.954818944140454, 9.929383135493543, 11.097619639771871, 9.878184891213962, 11.564174164257135, 9.890597760453817, 13.036389364245832, 9.859939361725765, 9.777167720317749, 9.73010687046224, 11.34051531093909, 13.6587636524804, 11.187570974739158, 29.433546189723764, 19.19452701630669, 43.90064760456675, 23.565714591245857, 31.67029616434563, 13.907519844515072, 31.862837030668526, 89.17557786716256, 38.6272872968282, 60.47329319275394, 70.47810874567223, 43.400574346909686, 55.940115397630585, 60.9331505076556, 85.16069467517991, 80.89931926762273, 43.71453110597486, 48.56447768080164, 96.20683022385364, 54.67602682715195, 36.21456841823147, 68.42120860794194, 35.0361902482285, 59.92919978003528, 71.89355970001563, 91.88051030212112, 52.976743144715364, 82.6976999677251, 51.35321496658675, 75.18530692009067, 77.51687765167644, 77.39554102999949, 98.05940902845036, 72.51769292919298, 68.6223285098381, 63.576960052437634, 76.27588301214888, 71.50906094063419, 74.43899654885529, 67.54720117641138, 66.04195954847415, 66.57893632133924, 78.2838885008156, 77.59686984306215, 11.590770910785599, 10.418687202853596, 10.37538465965149, 10.360210803130819, 10.3172453034614, 10.315494860482485, 14.9271837540479, 10.224408921942237, 9.938939591895362, 10.483549399741102, 9.748049155365495, 9.731674429450516, 9.561521478508071, 9.57702622368656, 9.571486539444523, 9.515263937677652, 10.562847580129638, 9.449084342911348, 9.296609529692653, 9.309998209844984, 9.306146513986553, 9.256762762352226, 9.186311687813536, 9.086866271032232, 9.094115127364365, 9.766960648205552, 8.994022322941623, 8.95067318385184, 8.92704736812183, 16.590086220444455, 22.092457049659487, 11.327986018077798, 29.510321983976088, 19.159206762338606, 24.253246635740386, 54.275598191875915, 34.24582456935007, 26.456032019693115, 67.7966959231195, 47.23691667926159, 23.427230967163148, 38.46530572057376, 91.88051030212112, 98.05940902845036, 96.20683022385364, 33.7328508981115, 22.37205737560614, 77.51687765167644, 29.35429144015861, 77.59686984306215, 71.51596089731521, 52.15599060491471, 76.27588301214888, 75.18530692009067, 82.6976999677251, 50.65322113472721, 34.899403547993515, 80.89931926762273, 89.17557786716256, 66.57893632133924, 78.2838885008156, 68.42120860794194, 71.50906094063419, 67.54720117641138, 65.4657016293631, 60.575255899094024, 63.0818193397285, 59.0631173358793, 77.39554102999949, 74.43899654885529, 72.51769292919298, 68.41245266621864, 70.47810874567223, 9.41163494393412, 10.346415834415566, 12.566600344745321, 8.365994372929753, 8.341351248218908, 8.271952505945208, 11.121696018761249, 8.209414289475493, 8.191927021955374, 8.163197708562677, 8.137516920985929, 8.135009360630654, 8.594513585070006, 8.05969945313671, 8.04400373941033, 7.9179900112030985, 7.896899690908835, 7.875888764134291, 7.6984729828760905, 7.689026074485354, 7.575645814492019, 7.527636382235433, 7.470640552462683, 7.478771712725156, 7.447808757747228, 7.331557297360508, 9.174028580840773, 11.210361737738378, 7.325817702856075, 8.851957192842335, 11.19263812193591, 12.505591481486801, 17.78588229949227, 21.542992437840642, 18.69154673103159, 43.10945919425232, 91.88051030212112, 67.7966959231195, 70.8673056660795, 37.57484716419985, 25.460713968838014, 96.20683022385364, 54.275598191875915, 50.07670217391358, 36.74307376890797, 77.51687765167644, 89.17557786716256, 82.6976999677251, 98.05940902845036, 59.60684437504294, 77.39554102999949, 77.59686984306215, 78.2838885008156, 76.27588301214888, 75.18530692009067, 85.16069467517991, 80.89931926762273, 72.51769292919298, 33.7328508981115, 66.53800268474858, 74.43899654885529, 71.51596089731521, 67.54720117641138, 62.18236125874466, 56.896534712698276, 40.11469493985648, 63.576960052437634, 48.7001346074513, 59.15343015673389, 12.66301484569889, 8.259204066825808, 7.416441171305344, 7.419356354024924, 7.281280807032028, 7.250557702259468, 7.259083331776482, 7.2525282598937855, 7.212549845645749, 7.246667887978587, 7.173118599689449, 7.120693055589766, 7.094948354998824, 11.96940767358332, 7.009589776349071, 6.974768294725404, 6.980066326614532, 6.943905138828886, 6.938552159217018, 6.93407886197593, 6.872187652425062, 8.723913458122006, 9.30250844681076, 8.855546228545922, 6.773085317607056, 9.493027285442546, 6.757702193283412, 7.584175869929549, 6.7268323827926695, 11.427470291656297, 11.826264564207701, 8.728660415930506, 11.19263812193591, 18.597223372416916, 18.093734238785782, 15.536058025783976, 63.0818193397285, 12.932715997876862, 35.894285464537525, 71.51596089731521, 56.214257771909544, 24.853203316737055, 85.16069467517991, 80.89931926762273, 40.51860790379598, 77.59686984306215, 89.17557786716256, 98.05940902845036, 91.88051030212112, 76.27588301214888, 66.57893632133924, 62.18236125874466, 44.992355394351435, 50.57332995505862, 75.18530692009067, 77.39554102999949, 47.987066068493405, 70.8673056660795, 71.89355970001563, 71.50906094063419, 74.43899654885529, 96.20683022385364, 77.51687765167644, 55.71609220239914, 44.06494889627133, 62.520389034409696, 68.6223285098381, 59.92919978003528, 56.19527881260413, 60.978480815398925, 78.2838885008156, 82.6976999677251], \"Category\": [\"Default\", \"Default\", \"Default\", \"Default\", \"Default\", \"Default\", \"Default\", \"Default\", \"Default\", \"Default\", \"Default\", \"Default\", \"Default\", \"Default\", \"Default\", \"Default\", \"Default\", \"Default\", \"Default\", \"Default\", \"Default\", \"Default\", \"Default\", \"Default\", \"Default\", \"Default\", \"Default\", \"Default\", \"Default\", \"Default\", \"Topic1\", \"Topic1\", \"Topic1\", \"Topic1\", \"Topic1\", \"Topic1\", \"Topic1\", \"Topic1\", \"Topic1\", \"Topic1\", \"Topic1\", \"Topic1\", \"Topic1\", \"Topic1\", \"Topic1\", \"Topic1\", \"Topic1\", \"Topic1\", \"Topic1\", \"Topic1\", \"Topic1\", \"Topic1\", \"Topic1\", \"Topic1\", \"Topic1\", \"Topic1\", \"Topic1\", \"Topic1\", \"Topic1\", \"Topic1\", \"Topic1\", \"Topic1\", \"Topic1\", \"Topic1\", \"Topic1\", \"Topic1\", \"Topic1\", \"Topic1\", \"Topic1\", \"Topic1\", \"Topic1\", \"Topic1\", \"Topic1\", \"Topic1\", \"Topic1\", \"Topic1\", \"Topic1\", \"Topic1\", \"Topic1\", \"Topic1\", \"Topic1\", \"Topic1\", \"Topic1\", \"Topic1\", \"Topic1\", \"Topic1\", \"Topic1\", \"Topic1\", \"Topic1\", \"Topic1\", \"Topic1\", \"Topic1\", \"Topic1\", \"Topic1\", \"Topic1\", \"Topic1\", \"Topic1\", \"Topic1\", \"Topic1\", \"Topic1\", \"Topic1\", \"Topic1\", \"Topic1\", \"Topic1\", \"Topic1\", \"Topic1\", \"Topic1\", \"Topic1\", \"Topic2\", \"Topic2\", \"Topic2\", \"Topic2\", \"Topic2\", \"Topic2\", \"Topic2\", \"Topic2\", \"Topic2\", \"Topic2\", \"Topic2\", \"Topic2\", \"Topic2\", \"Topic2\", \"Topic2\", \"Topic2\", \"Topic2\", \"Topic2\", \"Topic2\", \"Topic2\", \"Topic2\", \"Topic2\", \"Topic2\", \"Topic2\", \"Topic2\", \"Topic2\", \"Topic2\", \"Topic2\", \"Topic2\", \"Topic2\", \"Topic2\", \"Topic2\", \"Topic2\", \"Topic2\", \"Topic2\", \"Topic2\", \"Topic2\", \"Topic2\", \"Topic2\", \"Topic2\", \"Topic2\", \"Topic2\", \"Topic2\", \"Topic2\", \"Topic2\", \"Topic2\", \"Topic2\", \"Topic2\", \"Topic2\", \"Topic2\", \"Topic2\", \"Topic2\", \"Topic2\", \"Topic2\", \"Topic2\", \"Topic2\", \"Topic2\", \"Topic2\", \"Topic2\", \"Topic2\", \"Topic2\", \"Topic2\", \"Topic2\", \"Topic2\", \"Topic2\", \"Topic2\", \"Topic2\", \"Topic2\", \"Topic2\", \"Topic2\", \"Topic2\", \"Topic2\", \"Topic2\", \"Topic2\", \"Topic2\", \"Topic2\", \"Topic2\", \"Topic3\", \"Topic3\", \"Topic3\", \"Topic3\", \"Topic3\", \"Topic3\", \"Topic3\", \"Topic3\", \"Topic3\", \"Topic3\", \"Topic3\", \"Topic3\", \"Topic3\", \"Topic3\", \"Topic3\", \"Topic3\", \"Topic3\", \"Topic3\", \"Topic3\", \"Topic3\", \"Topic3\", \"Topic3\", \"Topic3\", \"Topic3\", \"Topic3\", \"Topic3\", \"Topic3\", \"Topic3\", \"Topic3\", \"Topic3\", \"Topic3\", \"Topic3\", \"Topic3\", \"Topic3\", \"Topic3\", \"Topic3\", \"Topic3\", \"Topic3\", \"Topic3\", \"Topic3\", \"Topic3\", \"Topic3\", \"Topic3\", \"Topic3\", \"Topic3\", \"Topic3\", \"Topic3\", \"Topic3\", \"Topic3\", \"Topic3\", \"Topic3\", \"Topic3\", \"Topic3\", \"Topic3\", \"Topic3\", \"Topic3\", \"Topic3\", \"Topic3\", \"Topic3\", \"Topic3\", \"Topic3\", \"Topic3\", \"Topic3\", \"Topic3\", \"Topic3\", \"Topic3\", \"Topic3\", \"Topic3\", \"Topic3\", \"Topic3\", \"Topic3\", \"Topic3\", \"Topic3\", \"Topic4\", \"Topic4\", \"Topic4\", \"Topic4\", \"Topic4\", \"Topic4\", \"Topic4\", \"Topic4\", \"Topic4\", \"Topic4\", \"Topic4\", \"Topic4\", \"Topic4\", \"Topic4\", \"Topic4\", \"Topic4\", \"Topic4\", \"Topic4\", \"Topic4\", \"Topic4\", \"Topic4\", \"Topic4\", \"Topic4\", \"Topic4\", \"Topic4\", \"Topic4\", \"Topic4\", \"Topic4\", \"Topic4\", \"Topic4\", \"Topic4\", \"Topic4\", \"Topic4\", \"Topic4\", \"Topic4\", \"Topic4\", \"Topic4\", \"Topic4\", \"Topic4\", \"Topic4\", \"Topic4\", \"Topic4\", \"Topic4\", \"Topic4\", \"Topic4\", \"Topic4\", \"Topic4\", \"Topic4\", \"Topic4\", \"Topic4\", \"Topic4\", \"Topic4\", \"Topic4\", \"Topic4\", \"Topic4\", \"Topic4\", \"Topic4\", \"Topic4\", \"Topic4\", \"Topic4\", \"Topic4\", \"Topic4\", \"Topic4\", \"Topic4\", \"Topic4\", \"Topic4\", \"Topic4\", \"Topic4\", \"Topic4\", \"Topic5\", \"Topic5\", \"Topic5\", \"Topic5\", \"Topic5\", \"Topic5\", \"Topic5\", \"Topic5\", \"Topic5\", \"Topic5\", \"Topic5\", \"Topic5\", \"Topic5\", \"Topic5\", \"Topic5\", \"Topic5\", \"Topic5\", \"Topic5\", \"Topic5\", \"Topic5\", \"Topic5\", \"Topic5\", \"Topic5\", \"Topic5\", \"Topic5\", \"Topic5\", \"Topic5\", \"Topic5\", \"Topic5\", \"Topic5\", \"Topic5\", \"Topic5\", \"Topic5\", \"Topic5\", \"Topic5\", \"Topic5\", \"Topic5\", \"Topic5\", \"Topic5\", \"Topic5\", \"Topic5\", \"Topic5\", \"Topic5\", \"Topic5\", \"Topic5\", \"Topic5\", \"Topic5\", \"Topic5\", \"Topic5\", \"Topic5\", \"Topic5\", \"Topic5\", \"Topic5\", \"Topic5\", \"Topic5\", \"Topic5\", \"Topic5\", \"Topic5\", \"Topic5\", \"Topic5\", \"Topic5\", \"Topic5\", \"Topic5\", \"Topic5\", \"Topic5\", \"Topic5\", \"Topic5\", \"Topic5\", \"Topic5\", \"Topic5\", \"Topic5\", \"Topic5\"], \"logprob\": [30.0, 29.0, 28.0, 27.0, 26.0, 25.0, 24.0, 23.0, 22.0, 21.0, 20.0, 19.0, 18.0, 17.0, 16.0, 15.0, 14.0, 13.0, 12.0, 11.0, 10.0, 9.0, 8.0, 7.0, 6.0, 5.0, 4.0, 3.0, 2.0, 1.0, -7.7016, -8.2395, -8.2925, -8.306, -8.3249, -8.3419, -8.2741, -8.3478, -7.7064, -8.3856, -7.274, -8.283, -8.3984, -8.4177, -8.3959, -8.4786, -8.4441, -8.2658, -8.3514, -8.3062, -8.4967, -8.5063, -8.282, -8.3549, -8.1782, -8.5387, -8.1274, -8.543, -8.5532, -8.5578, -8.3323, -7.5687, -8.0406, -8.0341, -8.2085, -8.2229, -8.273, -7.1104, -7.9027, -7.0606, -7.4935, -7.8251, -7.341, -7.1929, -6.8736, -6.9754, -7.0588, -7.1762, -7.4932, -7.7502, -7.1291, -7.2049, -7.1734, -7.2602, -7.3731, -7.1618, -7.1499, -7.0871, -6.9951, -7.1926, -7.3476, -7.2041, -7.1515, -7.4031, -7.4883, -7.343, -7.0947, -7.1799, -7.1103, -7.1779, -7.2201, -7.2963, -7.2749, -7.262, -7.3183, -7.2706, -7.2953, -7.3123, -7.7426, -7.8806, -7.9389, -8.1551, -8.2018, -8.2871, -8.3022, -8.3099, -8.3537, -8.361, -8.3746, -8.3821, -8.2639, -8.4198, -8.4214, -8.435, -8.4332, -7.4869, -8.4417, -8.2569, -8.4464, -8.4533, -8.3426, -8.4597, -8.3023, -8.4587, -8.1845, -8.4662, -8.4779, -8.4861, -8.3388, -8.1653, -8.3551, -7.5569, -7.9223, -7.3006, -7.7896, -7.627, -8.2078, -7.6372, -6.9707, -7.5296, -7.2518, -7.1523, -7.4881, -7.3283, -7.2808, -7.0748, -7.1197, -7.4956, -7.4347, -7.0364, -7.3678, -7.6153, -7.2569, -7.6352, -7.3358, -7.2359, -7.1019, -7.4094, -7.1875, -7.4396, -7.2595, -7.2529, -7.2559, -7.1662, -7.3105, -7.3373, -7.3663, -7.3064, -7.3351, -7.3256, -7.3724, -7.3819, -7.3846, -7.3643, -7.3725, -8.0558, -8.229, -8.236, -8.2395, -8.2452, -8.2465, -7.8812, -8.2618, -8.3122, -8.2641, -8.3454, -8.35, -8.3786, -8.3772, -8.3795, -8.3884, -8.2889, -8.4007, -8.4306, -8.4295, -8.4303, -8.4411, -8.4538, -8.4734, -8.4727, -8.4051, -8.4934, -8.502, -8.5072, -7.8921, -7.6116, -8.2785, -7.4126, -7.8395, -7.6439, -7.0687, -7.4898, -7.6872, -7.0249, -7.3205, -7.8028, -7.5063, -6.9589, -6.9305, -6.9424, -7.5954, -7.8544, -7.1449, -7.7116, -7.1656, -7.2362, -7.4101, -7.2273, -7.2365, -7.2054, -7.4505, -7.6361, -7.2344, -7.2043, -7.3427, -7.2841, -7.344, -7.3324, -7.3593, -7.375, -7.4057, -7.393, -7.4193, -7.3417, -7.3545, -7.3879, -7.405, -7.4082, -7.9505, -7.9285, -7.7832, -8.2043, -8.2136, -8.2296, -7.9372, -8.246, -8.2524, -8.2626, -8.2699, -8.2719, -8.2235, -8.2914, -8.2957, -8.335, -8.3421, -8.3476, -8.4085, -8.4114, -8.4511, -8.4658, -8.4847, -8.4852, -8.4935, -8.5367, -8.3149, -8.1146, -8.5413, -8.3567, -8.1646, -8.0973, -7.8505, -7.7567, -7.8973, -7.4044, -6.9749, -7.1712, -7.1765, -7.5276, -7.7461, -7.0351, -7.3465, -7.3916, -7.5526, -7.1762, -7.1144, -7.1542, -7.0782, -7.3229, -7.2058, -7.225, -7.2216, -7.2376, -7.2891, -7.252, -7.2964, -7.3462, -7.6555, -7.3911, -7.3504, -7.3691, -7.4014, -7.453, -7.4828, -7.6066, -7.5012, -7.5675, -7.5512, -7.5122, -8.0347, -8.1535, -8.157, -8.2133, -8.2206, -8.2214, -8.2228, -8.2434, -8.2467, -8.2583, -8.2798, -8.2947, -7.7929, -8.332, -8.3499, -8.3501, -8.3672, -8.37, -8.3754, -8.4045, -8.1739, -8.1097, -8.1855, -8.4538, -8.1223, -8.4638, -8.3511, -8.4793, -7.9528, -7.9216, -8.2535, -8.1196, -7.8214, -7.841, -7.9787, -7.3725, -8.0869, -7.6385, -7.3501, -7.4654, -7.8091, -7.2994, -7.3279, -7.6128, -7.3604, -7.3213, -7.2952, -7.3293, -7.3999, -7.4684, -7.4999, -7.6124, -7.5738, -7.4484, -7.4447, -7.6037, -7.481, -7.4807, -7.4915, -7.4865, -7.4188, -7.4981, -7.5766, -7.6371, -7.5656, -7.5539, -7.584, -7.5925, -7.5921, -7.5863, -7.5869], \"loglift\": [30.0, 29.0, 28.0, 27.0, 26.0, 25.0, 24.0, 23.0, 22.0, 21.0, 20.0, 19.0, 18.0, 17.0, 16.0, 15.0, 14.0, 13.0, 12.0, 11.0, 10.0, 9.0, 8.0, 7.0, 6.0, 5.0, 4.0, 3.0, 2.0, 1.0, 0.7815, 0.7631, 0.7485, 0.7446, 0.7389, 0.7342, 0.7339, 0.7317, 0.7277, 0.72, 0.7193, 0.7184, 0.7159, 0.7111, 0.7093, 0.6919, 0.6914, 0.6892, 0.6889, 0.6882, 0.6862, 0.6826, 0.6809, 0.6804, 0.6765, 0.6713, 0.671, 0.67, 0.6667, 0.6656, 0.6602, 0.6316, 0.6387, 0.636, 0.6479, 0.6438, 0.649, 0.3445, 0.5455, 0.3062, 0.4058, 0.5119, 0.3195, 0.264, 0.1332, 0.1725, 0.1733, 0.2184, 0.3531, 0.4579, 0.1881, 0.2059, 0.1903, 0.2248, 0.2629, 0.1468, 0.1325, 0.0901, 0.0308, 0.13, 0.2159, 0.1275, 0.092, 0.2451, 0.2977, 0.1921, 0.0071, 0.061, -0.0384, 0.0213, 0.0379, 0.1058, 0.0622, 0.0105, 0.1297, -0.0287, 0.0272, 0.0544, 1.0544, 1.0435, 0.9869, 0.958, 0.9384, 0.91, 0.9045, 0.9016, 0.885, 0.8822, 0.8754, 0.8737, 0.8706, 0.8589, 0.8577, 0.8522, 0.8522, 0.8509, 0.8498, 0.8486, 0.8479, 0.8436, 0.8431, 0.8423, 0.8422, 0.8421, 0.8401, 0.8377, 0.8345, 0.8311, 0.8252, 0.8127, 0.8225, 0.6533, 0.7155, 0.5099, 0.643, 0.51, 0.7522, 0.4938, 0.1311, 0.4088, 0.2384, 0.1848, 0.3338, 0.2398, 0.2019, 0.073, 0.0795, 0.3191, 0.2748, -0.0105, 0.2232, 0.3876, 0.1098, 0.4008, 0.1634, 0.0813, -0.03, 0.2132, -0.0103, 0.214, 0.013, -0.011, -0.0124, -0.1594, -0.0019, 0.0265, 0.0739, -0.0484, -0.0126, -0.0432, 0.0072, 0.0202, 0.0094, -0.1322, -0.1316, 1.0864, 1.0198, 1.0169, 1.015, 1.0133, 1.0122, 1.008, 1.0058, 0.9837, 0.9785, 0.9699, 0.967, 0.9561, 0.9559, 0.9541, 0.9511, 0.9461, 0.9458, 0.9322, 0.9318, 0.9314, 0.9259, 0.9209, 0.9121, 0.9121, 0.9082, 0.9024, 0.8986, 0.8961, 0.8915, 0.8855, 0.8866, 0.795, 0.8001, 0.76, 0.5296, 0.569, 0.6297, 0.351, 0.4167, 0.6357, 0.4364, 0.113, 0.0763, 0.0835, 0.4785, 0.6302, 0.097, 0.5013, 0.0753, 0.0863, 0.2281, 0.0308, 0.0359, -0.0282, 0.2169, 0.4038, -0.0352, -0.1025, 0.0513, -0.052, 0.0227, -0.0098, 0.0203, 0.0358, 0.0828, 0.055, 0.0944, -0.0982, -0.0721, -0.0793, -0.0381, -0.0711, 1.4, 1.3273, 1.2782, 1.2639, 1.2575, 1.2499, 1.2463, 1.2411, 1.2369, 1.2302, 1.226, 1.2243, 1.2178, 1.2141, 1.2118, 1.1883, 1.1838, 1.181, 1.1429, 1.1412, 1.1163, 1.108, 1.0967, 1.0951, 1.091, 1.0635, 1.0611, 1.061, 1.0597, 1.055, 1.0125, 0.969, 0.8635, 0.7657, 0.7671, 0.4243, 0.097, 0.2047, 0.1551, 0.4384, 0.6091, -0.0093, 0.2519, 0.2872, 0.4358, 0.0657, -0.0126, 0.023, -0.0714, 0.1817, 0.0376, 0.0159, 0.0105, 0.0204, -0.0167, -0.1041, -0.0972, -0.0376, 0.4185, 0.0035, -0.068, -0.0466, -0.0218, 0.0093, 0.0683, 0.294, -0.0611, 0.1392, -0.0389, 1.5415, 1.4464, 1.4352, 1.4313, 1.3937, 1.3907, 1.3887, 1.3883, 1.3731, 1.3651, 1.3638, 1.3496, 1.3383, 1.3171, 1.3131, 1.3002, 1.2992, 1.2873, 1.2853, 1.2805, 1.2604, 1.2524, 1.2524, 1.2258, 1.2257, 1.2195, 1.218, 1.2153, 1.2069, 1.2036, 1.2005, 1.1723, 1.0575, 0.848, 0.8558, 0.8706, 0.0754, 0.9457, 0.3733, -0.0277, 0.0978, 0.5703, -0.1516, -0.1287, 0.2779, -0.1196, -0.2196, -0.2884, -0.2574, -0.1419, -0.0744, -0.0376, 0.1735, 0.0951, -0.176, -0.2012, 0.1178, -0.1494, -0.1635, -0.169, -0.2041, -0.3929, -0.2562, -0.0044, 0.1696, -0.1087, -0.1901, -0.0847, -0.0289, -0.1102, -0.3543, -0.4097]}, \"token.table\": {\"Topic\": [1, 2, 3, 4, 5, 1, 2, 3, 4, 5, 1, 2, 3, 4, 5, 1, 2, 3, 4, 5, 1, 2, 3, 4, 5, 1, 2, 3, 4, 1, 2, 3, 4, 5, 1, 2, 3, 4, 5, 1, 2, 3, 4, 1, 2, 3, 4, 1, 2, 3, 4, 5, 1, 2, 3, 4, 5, 1, 2, 3, 4, 5, 1, 2, 3, 4, 5, 1, 2, 3, 4, 5, 1, 2, 3, 4, 5, 1, 2, 3, 4, 5, 1, 2, 3, 4, 1, 2, 3, 4, 1, 2, 3, 4, 1, 2, 3, 4, 1, 2, 3, 4, 1, 2, 3, 4, 5, 1, 2, 3, 4, 1, 2, 3, 4, 5, 1, 2, 3, 4, 1, 2, 3, 4, 5, 1, 2, 3, 4, 5, 1, 2, 3, 4, 5, 1, 2, 3, 4, 5, 1, 2, 3, 4, 5, 1, 2, 3, 4, 5, 1, 2, 3, 4, 1, 2, 3, 4, 1, 2, 3, 4, 5, 1, 2, 3, 4, 5, 1, 2, 3, 4, 1, 2, 3, 4, 1, 2, 3, 4, 1, 2, 3, 4, 5, 1, 2, 3, 4, 1, 2, 3, 4, 5, 1, 2, 3, 4, 5, 1, 2, 3, 4, 5, 1, 2, 3, 4, 5, 1, 2, 3, 4, 1, 2, 3, 4, 1, 2, 3, 4, 1, 2, 3, 4, 1, 2, 3, 4, 5, 1, 2, 3, 4, 5, 1, 2, 3, 4, 5, 1, 2, 3, 4, 5, 1, 2, 3, 4, 1, 2, 3, 4, 5, 1, 2, 3, 4, 5, 1, 2, 3, 4, 5, 1, 2, 3, 4, 1, 2, 3, 4, 5, 1, 2, 3, 4, 5, 1, 2, 3, 4, 1, 2, 3, 4, 5, 1, 2, 3, 4, 5, 1, 2, 3, 4, 5, 1, 2, 3, 4, 5, 1, 2, 3, 4, 5, 1, 2, 3, 4, 5, 1, 2, 3, 4, 5, 1, 2, 3, 4, 1, 2, 3, 4, 1, 2, 3, 4, 5, 1, 2, 3, 4, 1, 2, 3, 4, 5, 1, 2, 3, 4, 5, 1, 2, 3, 4, 5, 1, 2, 3, 4, 1, 2, 3, 4, 5, 1, 2, 3, 4, 1, 2, 3, 4, 1, 2, 3, 4, 5, 1, 2, 3, 4, 5, 1, 2, 3, 4, 1, 2, 3, 4, 1, 2, 3, 4, 5, 1, 2, 3, 4, 5, 1, 2, 3, 4, 5, 1, 2, 3, 4, 1, 2, 3, 4, 5, 1, 2, 3, 4, 1, 2, 3, 4, 5, 1, 2, 3, 4, 5, 1, 2, 3, 4, 5, 1, 2, 3, 4, 1, 2, 3, 4, 5, 1, 2, 3, 4, 5, 1, 2, 3, 4, 5, 1, 2, 3, 4, 1, 2, 3, 4, 5, 1, 2, 3, 4, 5, 1, 2, 3, 4, 1, 2, 3, 4, 5, 1, 2, 3, 4, 5, 1, 2, 3, 4, 5, 1, 2, 3, 4, 5, 1, 2, 3, 4, 5, 1, 2, 3, 4, 5, 1, 2, 3, 4, 1, 2, 3, 4, 5, 1, 2, 3, 4, 1, 2, 3, 4, 1, 2, 3, 4, 5, 1, 2, 3, 4, 5, 1, 2, 3, 4, 1, 2, 3, 4, 5, 1, 2, 3, 4, 5, 1, 2, 3, 4, 1, 2, 3, 4, 5, 1, 2, 3, 4, 1, 2, 3, 4, 1, 2, 3, 4, 5, 1, 2, 3, 4, 5, 1, 2, 3, 4, 5, 1, 2, 3, 4, 5, 1, 2, 3, 4, 5, 1, 2, 3, 4, 5, 1, 2, 3, 4, 1, 2, 3, 4, 5, 1, 2, 3, 4, 5, 1, 2, 3, 4, 1, 2, 3, 4, 1, 2, 3, 4, 5, 1, 2, 3, 4, 1, 2, 3, 4, 5, 1, 2, 3, 4, 1, 2, 3, 4, 5, 1, 2, 3, 4, 1, 2, 3, 4, 1, 2, 3, 4, 5, 1, 2, 3, 4, 5, 1, 2, 3, 4, 1, 2, 3, 4, 1, 2, 3, 4, 5, 1, 2, 3, 4, 1, 2, 3, 4, 5, 1, 2, 3, 4, 1, 2, 3, 4, 1, 2, 3, 4, 5, 1, 2, 3, 4, 1, 2, 3, 4, 1, 2, 3, 4, 1, 2, 3, 4, 1, 2, 3, 4, 1, 2, 3, 4, 1, 2, 3, 4, 5, 1, 2, 3, 4, 1, 2, 3, 4, 5, 1, 2, 3, 4, 5, 1, 2, 3, 4, 5, 1, 2, 3, 4, 5, 1, 2, 3, 4, 5, 1, 2, 3, 4, 5, 1, 2, 3, 4, 5, 1, 2, 3, 4, 5, 1, 2, 3, 4, 5, 1, 2, 3, 4, 1, 2, 3, 4, 1, 2, 3, 4, 1, 2, 3, 4, 5, 1, 2, 3, 4, 1, 2, 3, 4, 1, 2, 3, 4, 5, 1, 2, 3, 4, 5, 1, 2, 3, 4, 5, 1, 2, 3, 4, 5, 1, 2, 3, 4, 5, 1, 2, 3, 4, 5, 1, 2, 3, 4, 1, 2, 3, 4, 5, 1, 2, 3, 4, 1, 2, 3, 4, 5, 1, 2, 3, 4, 5, 1, 2, 3, 4, 1, 2, 3, 4, 5, 1, 2, 3, 4, 5, 1, 2, 3, 4, 5, 1, 2, 3, 4, 1, 2, 3, 4, 5, 1, 2, 3, 4, 5, 1, 2, 3, 4, 1, 2, 3, 4, 5, 1, 2, 3, 4, 1, 2, 3, 4, 5, 1, 2, 3, 4, 1, 2, 3, 4, 5, 1, 2, 3, 4, 5, 1, 2, 3, 4, 1, 2, 3, 4, 1, 2, 3, 4, 1, 2, 3, 4, 1, 2, 3, 4, 5, 1, 2, 3, 4, 5, 1, 2, 3, 4, 1, 2, 3, 4, 1, 2, 3, 4, 5, 1, 2, 3, 4, 5, 1, 2, 3, 4, 5, 1, 2, 3, 4, 5, 1, 2, 3, 4, 5, 1, 2, 3, 4, 1, 2, 3, 4, 5, 1, 2, 3, 4, 5, 1, 2, 3, 4, 1, 2, 3, 4, 1, 2, 3, 4, 1, 2, 3, 4, 1, 2, 3, 4, 5, 1, 2, 3, 4, 1, 2, 3, 4, 5, 1, 2, 3, 4, 5, 1, 2, 3, 4, 5, 1, 2, 3, 4, 5, 1, 2, 3, 4, 1, 2, 3, 4, 5, 1, 2, 3, 4, 5, 1, 2, 3, 4, 1, 2, 3, 4, 5, 1, 2, 3, 4, 1, 2, 3, 4, 5, 1, 2, 3, 4, 5, 1, 2, 3, 4, 1, 2, 3, 4, 5, 1, 2, 3, 4, 1, 2, 3, 4, 1, 2, 3, 4, 1, 2, 3, 4, 5, 1, 2, 3, 4, 5, 1, 2, 3, 4, 5, 1, 2, 3, 4, 1, 2, 3, 4, 5, 1, 2, 3, 4, 5, 1, 2, 3, 4, 5, 1, 2, 3, 4, 5, 1, 2, 3, 4, 1, 2, 3, 4, 1, 2, 3, 4, 5, 1, 2, 3, 4, 5, 1, 2, 3, 4, 1, 2, 3, 4, 5, 1, 2, 3, 4, 5, 1, 2, 3, 4, 1, 2, 3, 4, 1, 2, 3, 4, 1, 2, 3, 4, 5, 1, 2, 3, 4, 5, 1, 2, 3, 4, 1, 2, 3, 4, 5, 1, 2, 3, 4, 1, 2, 3, 4, 1, 2, 3, 4, 5, 1, 2, 3, 4, 1, 2, 3, 4, 1, 2, 3, 4, 5, 1, 2, 3, 4, 5, 1, 2, 3, 4, 5, 1, 2, 3, 4, 5, 1, 2, 3, 4, 5, 1, 2, 3, 4, 1, 2, 3, 4, 5, 1, 2, 3, 4, 5, 1, 2, 3, 4, 5, 1, 2, 3, 4, 1, 2, 3, 4, 5, 1, 2, 3, 4, 5, 1, 2, 3, 4, 1, 2, 3, 4, 5, 1, 2, 3, 4, 1, 2, 3, 4, 5], \"Freq\": [0.3523085347023099, 0.2348723564682066, 0.20131916268703423, 0.15098937201527565, 0.06710638756234474, 0.3495723148556412, 0.2237262815076104, 0.23770917410183603, 0.1118631407538052, 0.06991446297112824, 0.44979494777317713, 0.05622436847164714, 0.11244873694329428, 0.2811218423582357, 0.05622436847164714, 0.6799279895294749, 0.08499099869118436, 0.04249549934559218, 0.08499099869118436, 0.04249549934559218, 0.7012607185660519, 0.0779178576184502, 0.1558357152369004, 0.0779178576184502, 0.0779178576184502, 0.26750060184687824, 0.26750060184687824, 0.16050036110812696, 0.26750060184687824, 0.26760956249082035, 0.08920318749694012, 0.26760956249082035, 0.35681274998776047, 0.08920318749694012, 0.6729070533156779, 0.18352010544973033, 0.061173368483243444, 0.061173368483243444, 0.061173368483243444, 0.6457451917622813, 0.16143629794057032, 0.10762419862704688, 0.05381209931352344, 0.20917173114085494, 0.10458586557042747, 0.5229293278521373, 0.10458586557042747, 0.3313583600228368, 0.35897155669140657, 0.0828395900057092, 0.1656791800114184, 0.05522639333713947, 0.35076843113838563, 0.27769167465122196, 0.21923026946149102, 0.08769210778459641, 0.05846140518973094, 0.27576590236261833, 0.13788295118130917, 0.13788295118130917, 0.13788295118130917, 0.27576590236261833, 0.36176627477988615, 0.26739246396774197, 0.18874762162428843, 0.11010277928083492, 0.06291587387476281, 0.21342684532407036, 0.21342684532407036, 0.38416832158332664, 0.08537073812962814, 0.04268536906481407, 0.3660110172796326, 0.3431353286996556, 0.16012982005983925, 0.06862706573993112, 0.045751377159954074, 0.27881875535789796, 0.13940937767894898, 0.13940937767894898, 0.13940937767894898, 0.27881875535789796, 0.6527469983542696, 0.09324957119346709, 0.09324957119346709, 0.09324957119346709, 0.22009787976915038, 0.11004893988457519, 0.5502446994228759, 0.11004893988457519, 0.20895395838022765, 0.10447697919011383, 0.5223848959505691, 0.10447697919011383, 0.6290356040927844, 0.08986222915611206, 0.08986222915611206, 0.08986222915611206, 0.24362273963491027, 0.12181136981745513, 0.12181136981745513, 0.36543410945236543, 0.2847727803268039, 0.38832651862745987, 0.12944217287581997, 0.10355373830065596, 0.07766530372549198, 0.2601109660216447, 0.13005548301082234, 0.13005548301082234, 0.39016644903246706, 0.24777552280724677, 0.20647960233937232, 0.20647960233937232, 0.16518368187149784, 0.12388776140362338, 0.27300706639482325, 0.13650353319741163, 0.13650353319741163, 0.40951059959223485, 0.2637069649096334, 0.1318534824548167, 0.2637069649096334, 0.1318534824548167, 0.2637069649096334, 0.40337410083748704, 0.2781890350603359, 0.16691342103620155, 0.08345671051810077, 0.06954725876508397, 0.27551688120799533, 0.13775844060399767, 0.13775844060399767, 0.13775844060399767, 0.27551688120799533, 0.6472342512788793, 0.12944685025577587, 0.06472342512788794, 0.06472342512788794, 0.12944685025577587, 0.6483114156735236, 0.1296622831347047, 0.1296622831347047, 0.06483114156735235, 0.06483114156735235, 0.4705646753998125, 0.1764617532749297, 0.21567547622491406, 0.09803430737496094, 0.05882058442497656, 0.2597917800645207, 0.12989589003226035, 0.12989589003226035, 0.38968767009678107, 0.1729479313950195, 0.6053177598825682, 0.1729479313950195, 0.08647396569750974, 0.3125842279790567, 0.2917452794471196, 0.18755053678743402, 0.1250336911916227, 0.08335579412774846, 0.7587296776011118, 0.04463115750594775, 0.04463115750594775, 0.04463115750594775, 0.13389347251784325, 0.1822939928366994, 0.6380289749284478, 0.0911469964183497, 0.0911469964183497, 0.6550044727496729, 0.09357206753566755, 0.09357206753566755, 0.09357206753566755, 0.19221112704970159, 0.5766333811491047, 0.09610556352485079, 0.09610556352485079, 0.391699885446573, 0.34561754598227035, 0.11520584866075677, 0.06912350919645406, 0.06912350919645406, 0.20516925675320025, 0.10258462837660012, 0.5129231418830006, 0.10258462837660012, 0.3809937424067118, 0.23988494892274445, 0.1693305521807608, 0.14110879348396732, 0.07055439674198366, 0.23270659592350965, 0.11635329796175482, 0.11635329796175482, 0.4654131918470193, 0.11635329796175482, 0.2884305240552285, 0.14421526202761425, 0.14421526202761425, 0.14421526202761425, 0.2884305240552285, 0.17868888265763697, 0.17868888265763697, 0.08934444132881848, 0.35737776531527393, 0.2680333239864554, 0.2677146606043981, 0.13385733030219904, 0.13385733030219904, 0.40157199090659706, 0.17221085348070228, 0.602737987182458, 0.08610542674035114, 0.08610542674035114, 0.13897548239411434, 0.6948774119705717, 0.06948774119705717, 0.06948774119705717, 0.1938501936489779, 0.09692509682448895, 0.5815505809469337, 0.09692509682448895, 0.44214200863253406, 0.22107100431626703, 0.05526775107906676, 0.05526775107906676, 0.16580325323720027, 0.37757452894556987, 0.2517163526303799, 0.20976362719198324, 0.09788969268959218, 0.06992120906399442, 0.25107619865424613, 0.4079988228131499, 0.18830714899068457, 0.09415357449534228, 0.031384524831780766, 0.3128903114486289, 0.0893972318424654, 0.4022875432910943, 0.1340958477636981, 0.0893972318424654, 0.20090772230239587, 0.6027231669071876, 0.10045386115119793, 0.10045386115119793, 0.34463998373695737, 0.3118171281429614, 0.19693713356397563, 0.09846856678198782, 0.06564571118799188, 0.43185911695366863, 0.2239269495315319, 0.15994782109395136, 0.11196347476576594, 0.06397912843758054, 0.42708214118900323, 0.19574598137829316, 0.19574598137829316, 0.10677053529725081, 0.07118035686483387, 0.19778897580917906, 0.5933669274275372, 0.09889448790458953, 0.09889448790458953, 0.47222346861529235, 0.23611173430764618, 0.1652782140153523, 0.07083352029229385, 0.047222346861529235, 0.578471248976745, 0.115694249795349, 0.19282374965891497, 0.07712949986356599, 0.03856474993178299, 0.1712361083101973, 0.5993263790856905, 0.1712361083101973, 0.08561805415509866, 0.19077508234466767, 0.09538754117233383, 0.572325247034003, 0.09538754117233383, 0.09538754117233383, 0.2667119757305824, 0.33338996966322804, 0.20003398179793683, 0.11112998988774268, 0.08890399191019414, 0.2758408500599542, 0.1379204250299771, 0.1379204250299771, 0.1379204250299771, 0.2758408500599542, 0.3607830123974543, 0.2787868732162147, 0.18039150619872715, 0.11479459485373546, 0.0655969113449917, 0.339249570894748, 0.20649973880549877, 0.29499962686499825, 0.14749981343249913, 0.014749981343249912, 0.2973167586449794, 0.1486583793224897, 0.1486583793224897, 0.1486583793224897, 0.2973167586449794, 0.21571063953456499, 0.5033248255806516, 0.21571063953456499, 0.07190354651152166, 0.07190354651152166, 0.1991064027541961, 0.5973192082625883, 0.09955320137709806, 0.09955320137709806, 0.1676083550403803, 0.6704334201615212, 0.08380417752019015, 0.08380417752019015, 0.29937615097700976, 0.24494412352664438, 0.21772810980146165, 0.19051209607627895, 0.05443202745036541, 0.22344688035401133, 0.11172344017700567, 0.5586172008850283, 0.11172344017700567, 0.3170407759445777, 0.3003544193159157, 0.2002362795439438, 0.1001181397719719, 0.06674542651464793, 0.38045827230738993, 0.22193399217931079, 0.22193399217931079, 0.09511456807684748, 0.07926214006403956, 0.2910281414236759, 0.14551407071183795, 0.14551407071183795, 0.14551407071183795, 0.2910281414236759, 0.2003383165502096, 0.6010149496506288, 0.1001691582751048, 0.1001691582751048, 0.26280576137900846, 0.20440448107256215, 0.37960832199190114, 0.1460032007661158, 0.029200640153223163, 0.6712476219098554, 0.08390595273873193, 0.08390595273873193, 0.08390595273873193, 0.20455821739089505, 0.6136746521726852, 0.10227910869544753, 0.10227910869544753, 0.2371575418918379, 0.20751284915535817, 0.35573631283775686, 0.17786815641887843, 0.02964469273647974, 0.20331868975397696, 0.20331868975397696, 0.4744102760926129, 0.10165934487698848, 0.033886448292329494, 0.22403824215629561, 0.11201912107814781, 0.560095605390739, 0.11201912107814781, 0.7503755302060259, 0.07503755302060258, 0.07503755302060258, 0.07503755302060258, 0.3698798105188636, 0.24122596338186755, 0.19298077070549405, 0.12865384713699604, 0.08040865446062252, 0.38752018165819163, 0.2141558898637375, 0.22435378938105832, 0.11217689469052916, 0.06118739710392499, 0.2701879396984686, 0.5789741564967184, 0.038598277099781225, 0.038598277099781225, 0.07719655419956245, 0.7268332265782758, 0.08075924739758619, 0.08075924739758619, 0.08075924739758619, 0.3553574599357399, 0.2369049732904933, 0.25664705439803437, 0.07896832443016442, 0.05922624332262332, 0.24178088529431985, 0.12089044264715992, 0.12089044264715992, 0.4835617705886397, 0.4445524694863947, 0.22227623474319735, 0.15559336432023815, 0.0666828704229592, 0.08891049389727894, 0.6685112858894335, 0.07427903176549262, 0.14855806353098525, 0.07427903176549262, 0.07427903176549262, 0.34301098917005934, 0.24946253757822498, 0.22867399278003955, 0.12473126878911249, 0.05197136199546354, 0.21491172495448313, 0.10745586247724156, 0.5372793123862079, 0.10745586247724156, 0.3139610763061256, 0.3710449083617847, 0.14270958013914797, 0.11416766411131839, 0.057083832055659194, 0.21508587168623955, 0.3226288075293593, 0.16131440376467965, 0.10754293584311977, 0.16131440376467965, 0.26097113842043484, 0.10438845536817394, 0.46974804915678275, 0.05219422768408697, 0.10438845536817394, 0.20122871071989268, 0.10061435535994634, 0.603686132159678, 0.10061435535994634, 0.3959946368744448, 0.2171583492537278, 0.20438432870939086, 0.12774020544336928, 0.051096082177347714, 0.3785472171165703, 0.2574121076392678, 0.19684455290061656, 0.10599322079263969, 0.060567554738651254, 0.18021882754319313, 0.5406564826295794, 0.09010941377159656, 0.09010941377159656, 0.415066369085789, 0.27671091272385934, 0.17294432045241206, 0.10376659227144724, 0.05188329613572362, 0.3547200747144786, 0.297964862760162, 0.198643241840108, 0.08513281793147486, 0.05675521195431657, 0.3696088346590717, 0.24640588977271444, 0.16427059318180962, 0.14373676903408342, 0.08213529659090481, 0.31418828042717917, 0.31418828042717917, 0.1984347034276921, 0.09921735171384605, 0.06614490114256404, 0.41776925958491, 0.1856752264821822, 0.0928376132410911, 0.27851283972327334, 0.04641880662054555, 0.2882445723699352, 0.1441222861849676, 0.1441222861849676, 0.1441222861849676, 0.2882445723699352, 0.19005154455287698, 0.570154633658631, 0.09502577227643849, 0.09502577227643849, 0.2880223678195735, 0.14401118390978676, 0.14401118390978676, 0.14401118390978676, 0.2880223678195735, 0.19947721890263911, 0.5984316567079173, 0.09973860945131956, 0.09973860945131956, 0.24585097709647294, 0.12292548854823647, 0.12292548854823647, 0.3687764656447094, 0.2149957736061689, 0.3224936604092533, 0.10749788680308445, 0.10749788680308445, 0.3224936604092533, 0.34384541797391033, 0.20057649381811438, 0.31519163314275117, 0.08596135449347758, 0.05730756966231839, 0.2532639489270029, 0.12663197446350144, 0.12663197446350144, 0.3798959233905043, 0.2749333741609709, 0.23565717785226076, 0.23565717785226076, 0.23565717785226076, 0.07855239261742025, 0.3589627199148543, 0.28717017593188343, 0.19742949595316986, 0.08974067997871357, 0.07179254398297086, 0.6328404046376334, 0.09040577209109048, 0.09040577209109048, 0.09040577209109048, 0.4400341996394732, 0.22958306068146428, 0.15305537378764286, 0.11479153034073214, 0.05739576517036607, 0.2055144789829274, 0.1027572394914637, 0.5137861974573185, 0.1027572394914637, 0.24577521858568166, 0.12288760929284083, 0.12288760929284083, 0.3686628278785225, 0.32651102939409155, 0.2394414215556671, 0.2394414215556671, 0.13060441175763662, 0.06530220587881831, 0.34581224796533216, 0.2527089504362043, 0.2261080082850249, 0.1197042396803073, 0.06650235537794849, 0.3225104100856329, 0.245107911665081, 0.23220749526165568, 0.12900416403425316, 0.06450208201712658, 0.3387181282097626, 0.1693590641048813, 0.3175482451966524, 0.1058494150655508, 0.06350964903933048, 0.25260262671639894, 0.4104792684141483, 0.15787664169774934, 0.09472598501864961, 0.06315065667909973, 0.32168975931207744, 0.2708966394206968, 0.2370345594931097, 0.1015862397827613, 0.0677241598551742, 0.21250292982188151, 0.10625146491094076, 0.10625146491094076, 0.5312573245547038, 0.15794027128376292, 0.07897013564188146, 0.2369104069256444, 0.15794027128376292, 0.39485067820940734, 0.20097561934189165, 0.06699187311396389, 0.6029268580256749, 0.06699187311396389, 0.06699187311396389, 0.18494648604301478, 0.6473127011505517, 0.09247324302150739, 0.09247324302150739, 0.17255107666211686, 0.08627553833105843, 0.603928768317409, 0.08627553833105843, 0.5424057376213056, 0.1017010758039948, 0.2373025102093212, 0.0339003586013316, 0.0678007172026632, 0.20142238170373405, 0.6042671451112022, 0.10071119085186703, 0.10071119085186703, 0.63916595994287, 0.10092094104361103, 0.1682015684060184, 0.03364031368120368, 0.06728062736240736, 0.13873634681697383, 0.6936817340848692, 0.06936817340848692, 0.06936817340848692, 0.23846598424186582, 0.23846598424186582, 0.340665691774094, 0.13626627670963762, 0.034066569177409405, 0.12218023456552926, 0.7330814073931755, 0.06109011728276463, 0.06109011728276463, 0.22236991728366887, 0.11118495864183443, 0.5559247932091722, 0.11118495864183443, 0.1750168627837334, 0.1750168627837334, 0.1750168627837334, 0.1750168627837334, 0.2625252941756001, 0.2853234017699814, 0.1426617008849907, 0.1426617008849907, 0.1426617008849907, 0.2853234017699814, 0.6744973696453082, 0.07494415218281202, 0.07494415218281202, 0.07494415218281202, 0.7100107976776772, 0.08875134970970965, 0.08875134970970965, 0.08875134970970965, 0.2865302285701974, 0.1432651142850987, 0.1432651142850987, 0.1432651142850987, 0.2865302285701974, 0.21605825398638412, 0.10802912699319206, 0.5401456349659604, 0.10802912699319206, 0.18934288172086394, 0.09467144086043197, 0.5680286451625918, 0.09467144086043197, 0.09467144086043197, 0.19196276469958864, 0.09598138234979432, 0.5758882940987659, 0.09598138234979432, 0.20246634599630514, 0.6073990379889155, 0.10123317299815257, 0.10123317299815257, 0.3364149772563123, 0.29155964695547065, 0.19063515377857698, 0.12335215832731451, 0.06728299545126246, 0.23906303433235568, 0.11953151716617784, 0.11953151716617784, 0.47812606866471136, 0.20284100404953648, 0.6085230121486095, 0.10142050202476824, 0.10142050202476824, 0.1908813627814344, 0.5726440883443031, 0.0954406813907172, 0.0954406813907172, 0.2088330921610575, 0.10441654608052875, 0.5220827304026437, 0.10441654608052875, 0.2656876472832596, 0.1328438236416298, 0.1328438236416298, 0.3985314709248894, 0.26400389471403884, 0.13200194735701942, 0.13200194735701942, 0.39600584207105827, 0.27836118161278006, 0.32475471188157673, 0.13918059080639003, 0.1855741210751867, 0.06959029540319502, 0.560298554348742, 0.04309988879605708, 0.25859933277634245, 0.08619977759211415, 0.34899928868934554, 0.22435668558600785, 0.17449964434467277, 0.17449964434467277, 0.07478556186200262, 0.3895807485928014, 0.24180874050587672, 0.20150728375489727, 0.1074705513359452, 0.06716909458496576, 0.34511855284949455, 0.2492522881690794, 0.2684255411051624, 0.09586626468041516, 0.038346505872166065, 0.6550532336160662, 0.19651597008481983, 0.06550532336160661, 0.06550532336160661, 0.06550532336160661, 0.42605346630479946, 0.29049099975327236, 0.1355624665515271, 0.07746426660087263, 0.05809819995065447, 0.37969298946608315, 0.2311174718489202, 0.2311174718489202, 0.09905034507810866, 0.04952517253905433, 0.3746985887566731, 0.24549217884057895, 0.19380961487414125, 0.12920640991609417, 0.06460320495804708, 0.33104061763340703, 0.3115676401255596, 0.1557838200627798, 0.1363108425549323, 0.058418932523542424, 0.39924521670100116, 0.27007764659185374, 0.15265258285626515, 0.10568255736202972, 0.07045503824135314, 0.15915203357575486, 0.07957601678787743, 0.2387280503636323, 0.3978800839393872, 0.21513219347463766, 0.10756609673731883, 0.5378304836865941, 0.10756609673731883, 0.7292722806058048, 0.08103025340064499, 0.08103025340064499, 0.08103025340064499, 0.49787198610796213, 0.17425519513778676, 0.17425519513778676, 0.07468079791619432, 0.04978719861079622, 0.17876981558515928, 0.5363094467554779, 0.08938490779257964, 0.08938490779257964, 0.1978693517832121, 0.5936080553496363, 0.09893467589160605, 0.09893467589160605, 0.17982868769531096, 0.17982868769531096, 0.08991434384765548, 0.44957171923827743, 0.08991434384765548, 0.16911510723792011, 0.33823021447584023, 0.16911510723792011, 0.08455755361896006, 0.25367266085688017, 0.4080304560925203, 0.2623052932023345, 0.174870195468223, 0.0874350977341115, 0.05829006515607433, 0.24141757195376826, 0.24141757195376826, 0.16094504796917883, 0.20118130996147354, 0.12070878597688413, 0.6977129334067081, 0.07752365926741202, 0.07752365926741202, 0.07752365926741202, 0.07752365926741202, 0.2038490354279771, 0.4756477493319466, 0.16987419618998092, 0.06794967847599237, 0.06794967847599237, 0.1599284610376716, 0.1599284610376716, 0.39982115259417905, 0.3198569220753432, 0.31602142391399923, 0.21068094927599948, 0.10534047463799974, 0.10534047463799974, 0.31602142391399923, 0.20554758818440272, 0.6166427645532081, 0.10277379409220136, 0.10277379409220136, 0.2696711203937166, 0.1348355601968583, 0.1348355601968583, 0.1348355601968583, 0.2696711203937166, 0.35151525661432526, 0.22848491679931143, 0.22848491679931143, 0.12303033981501385, 0.05272728849214879, 0.21800673307001034, 0.21800673307001034, 0.10900336653500517, 0.3270100996050155, 0.35752518309690734, 0.3217726647872166, 0.1608863323936083, 0.1072575549290722, 0.0536287774645361, 0.27729444410112597, 0.13864722205056298, 0.13864722205056298, 0.13864722205056298, 0.27729444410112597, 0.26956516233581646, 0.13478258116790823, 0.13478258116790823, 0.13478258116790823, 0.26956516233581646, 0.6482455212664935, 0.0926065030380705, 0.0926065030380705, 0.0926065030380705, 0.665132098975996, 0.0831415123719995, 0.0831415123719995, 0.0831415123719995, 0.0831415123719995, 0.3461092164122334, 0.27194295575246913, 0.21013773853599887, 0.11124939098964645, 0.07416626065976431, 0.21992244126995514, 0.10996122063497757, 0.5498061031748878, 0.10996122063497757, 0.37941795635850906, 0.23963239348958468, 0.15975492899305646, 0.15975492899305646, 0.05990809837239617, 0.19330365529552226, 0.19330365529552226, 0.09665182764776113, 0.4832591382388057, 0.6517047643103251, 0.10861746071838752, 0.10861746071838752, 0.10861746071838752, 0.05430873035919376, 0.7017578717247218, 0.07797309685830242, 0.07797309685830242, 0.07797309685830242, 0.22913023358656953, 0.3436953503798543, 0.11456511679328477, 0.11456511679328477, 0.22913023358656953, 0.42769798968885026, 0.2467488402051059, 0.19739907216408473, 0.08224961340170196, 0.04934976804102118, 0.6490559490648927, 0.14423465534775393, 0.07211732767387696, 0.07211732767387696, 0.15341671256653985, 0.6136668502661594, 0.07670835628326993, 0.15341671256653985, 0.19331712581211824, 0.5799513774363547, 0.09665856290605912, 0.09665856290605912, 0.1840529443080756, 0.6441853050782645, 0.0920264721540378, 0.0920264721540378, 0.6697972515214141, 0.07442191683571268, 0.14884383367142537, 0.07442191683571268, 0.07442191683571268, 0.310922372866308, 0.310922372866308, 0.2194746161409233, 0.10973730807046166, 0.05486865403523083, 0.21166072049091075, 0.10583036024545538, 0.5291518012272769, 0.10583036024545538, 0.19304626498484057, 0.09652313249242028, 0.5791387949545217, 0.09652313249242028, 0.6230272800993436, 0.20767576003311455, 0.06922525334437152, 0.06922525334437152, 0.06922525334437152, 0.3064554665914069, 0.2507362908475147, 0.19501711510362255, 0.1392979393597304, 0.1114383514877843, 0.3208402428549895, 0.2714802054926834, 0.17276013076807128, 0.1234000934057652, 0.09872007472461215, 0.4208121505038501, 0.22543508062706255, 0.19537706987678755, 0.12023204300110003, 0.04508701612541251, 0.23397708224079478, 0.31196944298772633, 0.33796689657003687, 0.12998726791155266, 0.02599745358231053, 0.24414279993458846, 0.12207139996729423, 0.12207139996729423, 0.3662141999018827, 0.2927490284106986, 0.23952193233602612, 0.21290838429868988, 0.18629483626135365, 0.07984064411200871, 0.4124297048378351, 0.2444027880520504, 0.21385243954554412, 0.0611006970130126, 0.0611006970130126, 0.7179854922121734, 0.0797761658013526, 0.0797761658013526, 0.0797761658013526, 0.1927639374931069, 0.09638196874655346, 0.5782918124793207, 0.09638196874655346, 0.6789879890162096, 0.07544310989068996, 0.07544310989068996, 0.07544310989068996, 0.19561032967958392, 0.09780516483979196, 0.5868309890387517, 0.09780516483979196, 0.2759889139279829, 0.13799445696399146, 0.13799445696399146, 0.13799445696399146, 0.2759889139279829, 0.646317319049931, 0.09233104557856156, 0.09233104557856156, 0.09233104557856156, 0.2818907058838389, 0.14094535294191946, 0.14094535294191946, 0.14094535294191946, 0.2818907058838389, 0.30138481099865244, 0.060276962199730486, 0.5424926597975743, 0.060276962199730486, 0.060276962199730486, 0.683731267902252, 0.08204775214827024, 0.10939700286436033, 0.10939700286436033, 0.02734925071609008, 0.29595858811118253, 0.14797929405559127, 0.14797929405559127, 0.14797929405559127, 0.29595858811118253, 0.21963920573844958, 0.5857045486358656, 0.1464261371589664, 0.0732130685794832, 0.24215408456043194, 0.24215408456043194, 0.12107704228021597, 0.12107704228021597, 0.3632311268406479, 0.24738955943152788, 0.08246318647717596, 0.4535475256244678, 0.08246318647717596, 0.12369477971576394, 0.2727933396524141, 0.13639666982620705, 0.13639666982620705, 0.4091900094786211, 0.16973811613104708, 0.4667798193603795, 0.12730358709828532, 0.16973811613104708, 0.04243452903276177, 0.31685022558900444, 0.0905286358825727, 0.49790749735414985, 0.04526431794128635, 0.3379925441174172, 0.2668362190400662, 0.21346897523205297, 0.08894540634668874, 0.08894540634668874, 0.30886773041378257, 0.32945891244136805, 0.18532063824826953, 0.08236472811034201, 0.08236472811034201, 0.2539395946153688, 0.1269697973076844, 0.1269697973076844, 0.38090939192305323, 0.1546465568661939, 0.1546465568661939, 0.23196983529929088, 0.3092931137323878, 0.23196983529929088, 0.1938830882134194, 0.0969415441067097, 0.5816492646402582, 0.0969415441067097, 0.2525893562848926, 0.1262946781424463, 0.1262946781424463, 0.37888403442733887, 0.21482281252053012, 0.10741140626026506, 0.5370570313013253, 0.10741140626026506, 0.4531338782903698, 0.20464110632468313, 0.20464110632468313, 0.08770333128200705, 0.043851665641003526, 0.2642669059846982, 0.3020193211253694, 0.24539069841436262, 0.11325724542201351, 0.05662862271100676, 0.2267913795815552, 0.18899281631796266, 0.41578419589951787, 0.15119425305437015, 0.03779856326359254, 0.2397693060134653, 0.11988465300673265, 0.11988465300673265, 0.4795386120269306, 0.35397820298848015, 0.23598546865898676, 0.2228751648445986, 0.11799273432949338, 0.06555151907194076, 0.36047436811194217, 0.2553360107459591, 0.22529648006996386, 0.09011859202798554, 0.07509882668998795, 0.28674787684523934, 0.14337393842261967, 0.14337393842261967, 0.14337393842261967, 0.28674787684523934, 0.176358828956458, 0.529076486869374, 0.088179414478229, 0.088179414478229, 0.088179414478229, 0.16633414680693737, 0.5821695138242807, 0.16633414680693737, 0.08316707340346868, 0.20221224727151704, 0.6066367418145512, 0.10110612363575852, 0.10110612363575852, 0.3553070975852839, 0.2516758607895761, 0.22206693599080243, 0.11843569919509463, 0.05921784959754731, 0.36310038705965414, 0.20424396772105546, 0.22693774191228383, 0.11346887095614192, 0.09077509676491353, 0.24863240555214, 0.12431620277607, 0.12431620277607, 0.37294860832821003, 0.5792975274077508, 0.06436639193419454, 0.06436639193419454, 0.06436639193419454, 0.1930991758025836, 0.3608392974694642, 0.21908100203503184, 0.2319681198017984, 0.1288711776676658, 0.0644355888338329, 0.24500202878856245, 0.12250101439428122, 0.12250101439428122, 0.36750304318284366, 0.3389081007334503, 0.1129693669111501, 0.1129693669111501, 0.3389081007334503, 0.217715234140507, 0.1088576170702535, 0.5442880853512675, 0.1088576170702535, 0.20839273593987517, 0.5209818398496879, 0.15629455195490638, 0.05209818398496879, 0.05209818398496879, 0.204771993257437, 0.1023859966287185, 0.5119299831435925, 0.1023859966287185, 0.1023859966287185, 0.2674235926465028, 0.1337117963232514, 0.1337117963232514, 0.40113538896975415, 0.3550089985374992, 0.2535778560982137, 0.21976747528511853, 0.11833633284583304, 0.050715571219642736, 0.6654168817413462, 0.08317711021766827, 0.08317711021766827, 0.08317711021766827, 0.6810840783812749, 0.08513550979765937, 0.08513550979765937, 0.08513550979765937, 0.2952864029042829, 0.14764320145214144, 0.14764320145214144, 0.14764320145214144, 0.2952864029042829, 0.1765538902332943, 0.08827694511664715, 0.5296616706998829, 0.1765538902332943, 0.2685353591980454, 0.1342676795990227, 0.1342676795990227, 0.4028030387970681, 0.2808715365746588, 0.1404357682873294, 0.1404357682873294, 0.1404357682873294, 0.2808715365746588, 0.27334448703557856, 0.4100167305533679, 0.15945095077075416, 0.09111482901185952, 0.04555741450592976, 0.22925491060872347, 0.3438823659130852, 0.11462745530436173, 0.11462745530436173, 0.22925491060872347, 0.3756920894250808, 0.2175059465092573, 0.17795941078030142, 0.11863960718686763, 0.07909307145791175, 0.1670926460641852, 0.41773161516046303, 0.0835463230320926, 0.0835463230320926, 0.2506389690962778, 0.7085205130801114, 0.07872450145334571, 0.07872450145334571, 0.07872450145334571, 0.4788668991167458, 0.2234712195878147, 0.17558452967614013, 0.09577337982334916, 0.04788668991167458, 0.37485927676463243, 0.2539369294212026, 0.2055679904838307, 0.12092234734342983, 0.04836893893737193, 0.2947917762865839, 0.16582037416120343, 0.3684897203582298, 0.14739588814329194, 0.018424486017911492, 0.21018859940191328, 0.10509429970095664, 0.5254714985047833, 0.10509429970095664, 0.38611266946039624, 0.2482152875102547, 0.19305633473019812, 0.12410764375512735, 0.04136921458504245, 0.643949201888198, 0.07154991132091089, 0.14309982264182178, 0.07154991132091089, 0.07154991132091089, 0.6856017731116945, 0.08570022163896181, 0.08570022163896181, 0.08570022163896181, 0.22584716384326292, 0.22584716384326292, 0.11292358192163146, 0.22584716384326292, 0.22584716384326292, 0.24814821093876285, 0.12407410546938143, 0.12407410546938143, 0.3722223164081443, 0.2746769494274227, 0.13733847471371136, 0.13733847471371136, 0.13733847471371136, 0.2746769494274227], \"Term\": [\"able\", \"able\", \"able\", \"able\", \"able\", \"accident\", \"accident\", \"accident\", \"accident\", \"accident\", \"adam\", \"adam\", \"adam\", \"adam\", \"adam\", \"afghan\", \"afghan\", \"afghan\", \"afghan\", \"afghan\", \"aiden\", \"aiden\", \"aiden\", \"aiden\", \"aiden\", \"alex\", \"alex\", \"alex\", \"alex\", \"alyssa\", \"alyssa\", \"alyssa\", \"alyssa\", \"alyssa\", \"andy\", \"andy\", \"andy\", \"andy\", \"andy\", \"angela\", \"angela\", \"angela\", \"angela\", \"annie\", \"annie\", \"annie\", \"annie\", \"apartment\", \"apartment\", \"apartment\", \"apartment\", \"apartment\", \"appreciate\", \"appreciate\", \"appreciate\", \"appreciate\", \"appreciate\", \"arty\", \"arty\", \"arty\", \"arty\", \"arty\", \"ask\", \"ask\", \"ask\", \"ask\", \"ask\", \"austin\", \"austin\", \"austin\", \"austin\", \"austin\", \"baby\", \"baby\", \"baby\", \"baby\", \"baby\", \"bacardi\", \"bacardi\", \"bacardi\", \"bacardi\", \"bacardi\", \"bachu\", \"bachu\", \"bachu\", \"bachu\", \"bam\", \"bam\", \"bam\", \"bam\", \"barajas\", \"barajas\", \"barajas\", \"barajas\", \"barbara\", \"barbara\", \"barbara\", \"barbara\", \"baset\", \"baset\", \"baset\", \"baset\", \"beautiful\", \"beautiful\", \"beautiful\", \"beautiful\", \"beautiful\", \"bebe\", \"bebe\", \"bebe\", \"bebe\", \"belonging\", \"belonging\", \"belonging\", \"belonging\", \"belonging\", \"benwitt\", \"benwitt\", \"benwitt\", \"benwitt\", \"bethany\", \"bethany\", \"bethany\", \"bethany\", \"bethany\", \"bill\", \"bill\", \"bill\", \"bill\", \"bill\", \"billy\", \"billy\", \"billy\", \"billy\", \"billy\", \"bob\", \"bob\", \"bob\", \"bob\", \"bob\", \"book\", \"book\", \"book\", \"book\", \"book\", \"brain\", \"brain\", \"brain\", \"brain\", \"brain\", \"branda\", \"branda\", \"branda\", \"branda\", \"brandt\", \"brandt\", \"brandt\", \"brandt\", \"break\", \"break\", \"break\", \"break\", \"break\", \"brian\", \"brian\", \"brian\", \"brian\", \"brian\", \"bruce\", \"bruce\", \"bruce\", \"bruce\", \"bryce\", \"bryce\", \"bryce\", \"bryce\", \"bryson\", \"bryson\", \"bryson\", \"bryson\", \"business\", \"business\", \"business\", \"business\", \"business\", \"cabdibari\", \"cabdibari\", \"cabdibari\", \"cabdibari\", \"car\", \"car\", \"car\", \"car\", \"car\", \"carolyn\", \"carolyn\", \"carolyn\", \"carolyn\", \"carolyn\", \"carver\", \"carver\", \"carver\", \"carver\", \"carver\", \"cassandra\", \"cassandra\", \"cassandra\", \"cassandra\", \"cassandra\", \"cathleen\", \"cathleen\", \"cathleen\", \"cathleen\", \"cerifi\", \"cerifi\", \"cerifi\", \"cerifi\", \"charlie\", \"charlie\", \"charlie\", \"charlie\", \"charlotte\", \"charlotte\", \"charlotte\", \"charlotte\", \"chase\", \"chase\", \"chase\", \"chase\", \"chase\", \"child\", \"child\", \"child\", \"child\", \"child\", \"chris\", \"chris\", \"chris\", \"chris\", \"chris\", \"class\", \"class\", \"class\", \"class\", \"class\", \"cleto\", \"cleto\", \"cleto\", \"cleto\", \"come\", \"come\", \"come\", \"come\", \"come\", \"community\", \"community\", \"community\", \"community\", \"community\", \"cost\", \"cost\", \"cost\", \"cost\", \"cost\", \"crop\", \"crop\", \"crop\", \"crop\", \"dad\", \"dad\", \"dad\", \"dad\", \"dad\", \"daily\", \"daily\", \"daily\", \"daily\", \"daily\", \"daisy\", \"daisy\", \"daisy\", \"daisy\", \"dakota\", \"dakota\", \"dakota\", \"dakota\", \"dakota\", \"damage\", \"damage\", \"damage\", \"damage\", \"damage\", \"davin\", \"davin\", \"davin\", \"davin\", \"davin\", \"day\", \"day\", \"day\", \"day\", \"day\", \"de\", \"de\", \"de\", \"de\", \"de\", \"demere\", \"demere\", \"demere\", \"demere\", \"demere\", \"denise\", \"denise\", \"denise\", \"denise\", \"denise\", \"denny\", \"denny\", \"denny\", \"denny\", \"destiny\", \"destiny\", \"destiny\", \"destiny\", \"destroy\", \"destroy\", \"destroy\", \"destroy\", \"destroy\", \"dom\", \"dom\", \"dom\", \"dom\", \"donate\", \"donate\", \"donate\", \"donate\", \"donate\", \"donation\", \"donation\", \"donation\", \"donation\", \"donation\", \"downers\", \"downers\", \"downers\", \"downers\", \"downers\", \"echo\", \"echo\", \"echo\", \"echo\", \"el\", \"el\", \"el\", \"el\", \"el\", \"elle\", \"elle\", \"elle\", \"elle\", \"emelda\", \"emelda\", \"emelda\", \"emelda\", \"en\", \"en\", \"en\", \"en\", \"en\", \"eric\", \"eric\", \"eric\", \"eric\", \"eric\", \"estela\", \"estela\", \"estela\", \"estela\", \"everlee\", \"everlee\", \"everlee\", \"everlee\", \"expense\", \"expense\", \"expense\", \"expense\", \"expense\", \"family\", \"family\", \"family\", \"family\", \"family\", \"farm\", \"farm\", \"farm\", \"farm\", \"farm\", \"fatema\", \"fatema\", \"fatema\", \"fatema\", \"father\", \"father\", \"father\", \"father\", \"father\", \"fernando\", \"fernando\", \"fernando\", \"fernando\", \"fight\", \"fight\", \"fight\", \"fight\", \"fight\", \"file\", \"file\", \"file\", \"file\", \"file\", \"fire\", \"fire\", \"fire\", \"fire\", \"fire\", \"flinn\", \"flinn\", \"flinn\", \"flinn\", \"flood\", \"flood\", \"flood\", \"flood\", \"flood\", \"fractured\", \"fractured\", \"fractured\", \"fractured\", \"fractured\", \"frank\", \"frank\", \"frank\", \"frank\", \"frank\", \"freddie\", \"freddie\", \"freddie\", \"freddie\", \"friend\", \"friend\", \"friend\", \"friend\", \"friend\", \"fund\", \"fund\", \"fund\", \"fund\", \"fund\", \"gary\", \"gary\", \"gary\", \"gary\", \"get\", \"get\", \"get\", \"get\", \"get\", \"go\", \"go\", \"go\", \"go\", \"go\", \"god\", \"god\", \"god\", \"god\", \"god\", \"good\", \"good\", \"good\", \"good\", \"good\", \"grace\", \"grace\", \"grace\", \"grace\", \"grace\", \"grammy\", \"grammy\", \"grammy\", \"grammy\", \"grammy\", \"grenada\", \"grenada\", \"grenada\", \"grenada\", \"grove\", \"grove\", \"grove\", \"grove\", \"grove\", \"guerra\", \"guerra\", \"guerra\", \"guerra\", \"gunnar\", \"gunnar\", \"gunnar\", \"gunnar\", \"hank\", \"hank\", \"hank\", \"hank\", \"hank\", \"happen\", \"happen\", \"happen\", \"happen\", \"happen\", \"harlin\", \"harlin\", \"harlin\", \"harlin\", \"heal\", \"heal\", \"heal\", \"heal\", \"heal\", \"heart\", \"heart\", \"heart\", \"heart\", \"heart\", \"heath\", \"heath\", \"heath\", \"heath\", \"hi\", \"hi\", \"hi\", \"hi\", \"hi\", \"hilt\", \"hilt\", \"hilt\", \"hilt\", \"holden\", \"holden\", \"holden\", \"holden\", \"home\", \"home\", \"home\", \"home\", \"home\", \"hospital\", \"hospital\", \"hospital\", \"hospital\", \"hospital\", \"house\", \"house\", \"house\", \"house\", \"house\", \"husband\", \"husband\", \"husband\", \"husband\", \"husband\", \"ida\", \"ida\", \"ida\", \"ida\", \"ida\", \"injury\", \"injury\", \"injury\", \"injury\", \"injury\", \"iris\", \"iris\", \"iris\", \"iris\", \"jacob\", \"jacob\", \"jacob\", \"jacob\", \"jacob\", \"jake\", \"jake\", \"jake\", \"jake\", \"jake\", \"jamilyn\", \"jamilyn\", \"jamilyn\", \"jamilyn\", \"jared\", \"jared\", \"jared\", \"jared\", \"jason\", \"jason\", \"jason\", \"jason\", \"jason\", \"jelani\", \"jelani\", \"jelani\", \"jelani\", \"joe\", \"joe\", \"joe\", \"joe\", \"joe\", \"johanna\", \"johanna\", \"johanna\", \"johanna\", \"john\", \"john\", \"john\", \"john\", \"john\", \"jordan\", \"jordan\", \"jordan\", \"jordan\", \"jorge\", \"jorge\", \"jorge\", \"jorge\", \"joshua\", \"joshua\", \"joshua\", \"joshua\", \"joshua\", \"joycie\", \"joycie\", \"joycie\", \"joycie\", \"joycie\", \"kaitlyn\", \"kaitlyn\", \"kaitlyn\", \"kaitlyn\", \"kaiyo\", \"kaiyo\", \"kaiyo\", \"kaiyo\", \"kaleb\", \"kaleb\", \"kaleb\", \"kaleb\", \"kaleb\", \"kali\", \"kali\", \"kali\", \"kali\", \"kara\", \"kara\", \"kara\", \"kara\", \"kara\", \"karl\", \"karl\", \"karl\", \"karl\", \"keyveon\", \"keyveon\", \"keyveon\", \"keyveon\", \"know\", \"know\", \"know\", \"know\", \"know\", \"kristal\", \"kristal\", \"kristal\", \"kristal\", \"kwaku\", \"kwaku\", \"kwaku\", \"kwaku\", \"lanieyah\", \"lanieyah\", \"lanieyah\", \"lanieyah\", \"larissa\", \"larissa\", \"larissa\", \"larissa\", \"laymon\", \"laymon\", \"laymon\", \"laymon\", \"leeann\", \"leeann\", \"leeann\", \"leeann\", \"leg\", \"leg\", \"leg\", \"leg\", \"leg\", \"leslie\", \"leslie\", \"leslie\", \"leslie\", \"let\", \"let\", \"let\", \"let\", \"let\", \"life\", \"life\", \"life\", \"life\", \"life\", \"like\", \"like\", \"like\", \"like\", \"like\", \"linda\", \"linda\", \"linda\", \"linda\", \"linda\", \"little\", \"little\", \"little\", \"little\", \"little\", \"long\", \"long\", \"long\", \"long\", \"long\", \"lose\", \"lose\", \"lose\", \"lose\", \"lose\", \"loss\", \"loss\", \"loss\", \"loss\", \"loss\", \"love\", \"love\", \"love\", \"love\", \"love\", \"mac\", \"mac\", \"mac\", \"mac\", \"madalyn\", \"madalyn\", \"madalyn\", \"madalyn\", \"malik\", \"malik\", \"malik\", \"malik\", \"man\", \"man\", \"man\", \"man\", \"man\", \"maria\", \"maria\", \"maria\", \"maria\", \"marrisha\", \"marrisha\", \"marrisha\", \"marrisha\", \"matt\", \"matt\", \"matt\", \"matt\", \"matt\", \"max\", \"max\", \"max\", \"max\", \"max\", \"medical\", \"medical\", \"medical\", \"medical\", \"medical\", \"memory\", \"memory\", \"memory\", \"memory\", \"memory\", \"miami\", \"miami\", \"miami\", \"miami\", \"miami\", \"michael\", \"michael\", \"michael\", \"michael\", \"michael\", \"michele\", \"michele\", \"michele\", \"michele\", \"mickey\", \"mickey\", \"mickey\", \"mickey\", \"mickey\", \"minh\", \"minh\", \"minh\", \"minh\", \"mirko\", \"mirko\", \"mirko\", \"mirko\", \"mirko\", \"money\", \"money\", \"money\", \"money\", \"money\", \"morgan\", \"morgan\", \"morgan\", \"morgan\", \"mother\", \"mother\", \"mother\", \"mother\", \"mother\", \"myers\", \"myers\", \"myers\", \"myers\", \"myers\", \"najib\", \"najib\", \"najib\", \"najib\", \"najib\", \"naquita\", \"naquita\", \"naquita\", \"naquita\", \"natalia\", \"natalia\", \"natalia\", \"natalia\", \"natalia\", \"need\", \"need\", \"need\", \"need\", \"need\", \"nell\", \"nell\", \"nell\", \"nell\", \"new\", \"new\", \"new\", \"new\", \"new\", \"nick\", \"nick\", \"nick\", \"nick\", \"niece\", \"niece\", \"niece\", \"niece\", \"niece\", \"nisa\", \"nisa\", \"nisa\", \"nisa\", \"norma\", \"norma\", \"norma\", \"norma\", \"norma\", \"old\", \"old\", \"old\", \"old\", \"old\", \"parker\", \"parker\", \"parker\", \"parker\", \"pat\", \"pat\", \"pat\", \"pat\", \"patti\", \"patti\", \"patti\", \"patti\", \"patty\", \"patty\", \"patty\", \"patty\", \"penny\", \"penny\", \"penny\", \"penny\", \"penny\", \"people\", \"people\", \"people\", \"people\", \"people\", \"pepper\", \"pepper\", \"pepper\", \"pepper\", \"perry\", \"perry\", \"perry\", \"perry\", \"philip\", \"philip\", \"philip\", \"philip\", \"philip\", \"place\", \"place\", \"place\", \"place\", \"place\", \"pray\", \"pray\", \"pray\", \"pray\", \"pray\", \"prayer\", \"prayer\", \"prayer\", \"prayer\", \"prayer\", \"que\", \"que\", \"que\", \"que\", \"que\", \"ramano\", \"ramano\", \"ramano\", \"ramano\", \"recover\", \"recover\", \"recover\", \"recover\", \"recover\", \"recovery\", \"recovery\", \"recovery\", \"recovery\", \"recovery\", \"rep\", \"rep\", \"rep\", \"rep\", \"richard\", \"richard\", \"richard\", \"richard\", \"ricky\", \"ricky\", \"ricky\", \"ricky\", \"rilynn\", \"rilynn\", \"rilynn\", \"rilynn\", \"roberts\", \"roberts\", \"roberts\", \"roberts\", \"roberts\", \"rosa\", \"rosa\", \"rosa\", \"rosa\", \"rozanne\", \"rozanne\", \"rozanne\", \"rozanne\", \"rozanne\", \"ruth\", \"ruth\", \"ruth\", \"ruth\", \"ruth\", \"ryan\", \"ryan\", \"ryan\", \"ryan\", \"ryan\", \"salinas\", \"salinas\", \"salinas\", \"salinas\", \"salinas\", \"salvageable\", \"salvageable\", \"salvageable\", \"salvageable\", \"sandy\", \"sandy\", \"sandy\", \"sandy\", \"sandy\", \"sarah\", \"sarah\", \"sarah\", \"sarah\", \"sarah\", \"schuler\", \"schuler\", \"schuler\", \"schuler\", \"scott\", \"scott\", \"scott\", \"scott\", \"scott\", \"sean\", \"sean\", \"sean\", \"sean\", \"september\", \"september\", \"september\", \"september\", \"september\", \"share\", \"share\", \"share\", \"share\", \"share\", \"shibinsky\", \"shibinsky\", \"shibinsky\", \"shibinsky\", \"sick\", \"sick\", \"sick\", \"sick\", \"sick\", \"silo\", \"silo\", \"silo\", \"silo\", \"slinger\", \"slinger\", \"slinger\", \"slinger\", \"snyder\", \"snyder\", \"snyder\", \"snyder\", \"son\", \"son\", \"son\", \"son\", \"son\", \"start\", \"start\", \"start\", \"start\", \"start\", \"su\", \"su\", \"su\", \"su\", \"su\", \"sunny\", \"sunny\", \"sunny\", \"sunny\", \"support\", \"support\", \"support\", \"support\", \"support\", \"surgery\", \"surgery\", \"surgery\", \"surgery\", \"surgery\", \"suzanne\", \"suzanne\", \"suzanne\", \"suzanne\", \"suzanne\", \"tara\", \"tara\", \"tara\", \"tara\", \"tara\", \"tea\", \"tea\", \"tea\", \"tea\", \"teasia\", \"teasia\", \"teasia\", \"teasia\", \"thank\", \"thank\", \"thank\", \"thank\", \"thank\", \"thing\", \"thing\", \"thing\", \"thing\", \"thing\", \"tijan\", \"tijan\", \"tijan\", \"tijan\", \"tim\", \"tim\", \"tim\", \"tim\", \"tim\", \"time\", \"time\", \"time\", \"time\", \"time\", \"tobin\", \"tobin\", \"tobin\", \"tobin\", \"todd\", \"todd\", \"todd\", \"todd\", \"tommie\", \"tommie\", \"tommie\", \"tommie\", \"tool\", \"tool\", \"tool\", \"tool\", \"tool\", \"tristan\", \"tristan\", \"tristan\", \"tristan\", \"tristan\", \"trophy\", \"trophy\", \"trophy\", \"trophy\", \"try\", \"try\", \"try\", \"try\", \"try\", \"ty\", \"ty\", \"ty\", \"ty\", \"tyndall\", \"tyndall\", \"tyndall\", \"tyndall\", \"valentine\", \"valentine\", \"valentine\", \"valentine\", \"valentine\", \"victor\", \"victor\", \"victor\", \"victor\", \"vlad\", \"vlad\", \"vlad\", \"vlad\", \"walt\", \"walt\", \"walt\", \"walt\", \"walt\", \"water\", \"water\", \"water\", \"water\", \"water\", \"watson\", \"watson\", \"watson\", \"watson\", \"watson\", \"way\", \"way\", \"way\", \"way\", \"way\", \"wendy\", \"wendy\", \"wendy\", \"wendy\", \"wendy\", \"wendye\", \"wendye\", \"wendye\", \"wendye\", \"wife\", \"wife\", \"wife\", \"wife\", \"wife\", \"work\", \"work\", \"work\", \"work\", \"work\", \"y\", \"y\", \"y\", \"y\", \"y\", \"yanni\", \"yanni\", \"yanni\", \"yanni\", \"year\", \"year\", \"year\", \"year\", \"year\", \"yr\", \"yr\", \"yr\", \"yr\", \"yr\", \"yulia\", \"yulia\", \"yulia\", \"yulia\", \"zach\", \"zach\", \"zach\", \"zach\", \"zach\", \"zade\", \"zade\", \"zade\", \"zade\", \"zaki\", \"zaki\", \"zaki\", \"zaki\", \"zaki\"]}, \"R\": 30, \"lambda.step\": 0.01, \"plot.opts\": {\"xlab\": \"PC1\", \"ylab\": \"PC2\"}, \"topic.order\": [5, 1, 3, 2, 4]};\n",
       "\n",
       "function LDAvis_load_lib(url, callback){\n",
       "  var s = document.createElement('script');\n",
       "  s.src = url;\n",
       "  s.async = true;\n",
       "  s.onreadystatechange = s.onload = callback;\n",
       "  s.onerror = function(){console.warn(\"failed to load library \" + url);};\n",
       "  document.getElementsByTagName(\"head\")[0].appendChild(s);\n",
       "}\n",
       "\n",
       "if(typeof(LDAvis) !== \"undefined\"){\n",
       "   // already loaded: just create the visualization\n",
       "   !function(LDAvis){\n",
       "       new LDAvis(\"#\" + \"ldavis_el1882817969014115207689610890\", ldavis_el1882817969014115207689610890_data);\n",
       "   }(LDAvis);\n",
       "}else if(typeof define === \"function\" && define.amd){\n",
       "   // require.js is available: use it to load d3/LDAvis\n",
       "   require.config({paths: {d3: \"https://d3js.org/d3.v5\"}});\n",
       "   require([\"d3\"], function(d3){\n",
       "      window.d3 = d3;\n",
       "      LDAvis_load_lib(\"https://cdn.jsdelivr.net/gh/bmabey/pyLDAvis@3.3.1/pyLDAvis/js/ldavis.v3.0.0.js\", function(){\n",
       "        new LDAvis(\"#\" + \"ldavis_el1882817969014115207689610890\", ldavis_el1882817969014115207689610890_data);\n",
       "      });\n",
       "    });\n",
       "}else{\n",
       "    // require.js not available: dynamically load d3 & LDAvis\n",
       "    LDAvis_load_lib(\"https://d3js.org/d3.v5.js\", function(){\n",
       "         LDAvis_load_lib(\"https://cdn.jsdelivr.net/gh/bmabey/pyLDAvis@3.3.1/pyLDAvis/js/ldavis.v3.0.0.js\", function(){\n",
       "                 new LDAvis(\"#\" + \"ldavis_el1882817969014115207689610890\", ldavis_el1882817969014115207689610890_data);\n",
       "            })\n",
       "         });\n",
       "}\n",
       "</script>"
      ],
      "text/plain": [
       "PreparedData(topic_coordinates=              x         y  topics  cluster       Freq\n",
       "topic                                                \n",
       "4     -0.011449 -0.012094       1        1  33.716781\n",
       "0      0.015569 -0.005543       2        1  25.098751\n",
       "2     -0.004469  0.011385       3        1  21.222207\n",
       "1     -0.000108  0.007335       4        1  12.173938\n",
       "3      0.000457 -0.001083       5        1   7.788323, topic_info=        Term       Freq      Total Category  logprob  loglift\n",
       "2912   jacob  12.000000  12.000000  Default  30.0000  30.0000\n",
       "2091   brian  22.000000  22.000000  Default  29.0000  29.0000\n",
       "1223       y  54.000000  54.000000  Default  28.0000  28.0000\n",
       "9709   wendy  11.000000  11.000000  Default  27.0000  27.0000\n",
       "1750   sarah  24.000000  24.000000  Default  26.0000  26.0000\n",
       "...      ...        ...        ...      ...      ...      ...\n",
       "12    donate   4.288271  59.929200   Topic5  -7.5840  -0.0847\n",
       "73      cost   4.251898  56.195279   Topic5  -7.5925  -0.0289\n",
       "75       day   4.253481  60.978481   Topic5  -7.5921  -0.1102\n",
       "16    friend   4.278191  78.283889   Topic5  -7.5863  -0.3543\n",
       "146     work   4.275672  82.697700   Topic5  -7.5869  -0.4097\n",
       "\n",
       "[399 rows x 6 columns], token_table=       Topic      Freq  Term\n",
       "term                        \n",
       "0          1  0.352309  able\n",
       "0          2  0.234872  able\n",
       "0          3  0.201319  able\n",
       "0          4  0.150989  able\n",
       "0          5  0.067106  able\n",
       "...      ...       ...   ...\n",
       "10653      1  0.274677  zaki\n",
       "10653      2  0.137338  zaki\n",
       "10653      3  0.137338  zaki\n",
       "10653      4  0.137338  zaki\n",
       "10653      5  0.274677  zaki\n",
       "\n",
       "[1276 rows x 3 columns], R=30, lambda_step=0.01, plot_opts={'xlab': 'PC1', 'ylab': 'PC2'}, topic_order=[5, 1, 3, 2, 4])"
      ]
     },
     "execution_count": 171,
     "metadata": {},
     "output_type": "execute_result"
    }
   ],
   "source": [
    "import pyLDAvis.gensim_models\n",
    "pyLDAvis.enable_notebook()\n",
    "vis = pyLDAvis.gensim_models.prepare(lda, corpus, dictionary)\n",
    "vis"
   ]
  },
  {
   "cell_type": "code",
   "execution_count": 188,
   "id": "a458c29d",
   "metadata": {},
   "outputs": [
    {
     "ename": "ModuleNotFoundError",
     "evalue": "No module named 'lda'",
     "output_type": "error",
     "traceback": [
      "\u001b[1;31m---------------------------------------------------------------------------\u001b[0m",
      "\u001b[1;31mModuleNotFoundError\u001b[0m                       Traceback (most recent call last)",
      "\u001b[1;32m<ipython-input-188-fd8a22ffbc14>\u001b[0m in \u001b[0;36m<module>\u001b[1;34m\u001b[0m\n\u001b[0;32m      1\u001b[0m \u001b[1;32mimport\u001b[0m \u001b[0mnumpy\u001b[0m \u001b[1;32mas\u001b[0m \u001b[0mnt\u001b[0m\u001b[1;33m\u001b[0m\u001b[1;33m\u001b[0m\u001b[0m\n\u001b[1;32m----> 2\u001b[1;33m \u001b[1;32mimport\u001b[0m \u001b[0mos\u001b[0m\u001b[1;33m,\u001b[0m \u001b[0mcsv\u001b[0m\u001b[1;33m,\u001b[0m \u001b[0mnltk\u001b[0m\u001b[1;33m,\u001b[0m \u001b[0mlda\u001b[0m\u001b[1;33m\u001b[0m\u001b[1;33m\u001b[0m\u001b[0m\n\u001b[0m\u001b[0;32m      3\u001b[0m \u001b[1;32mimport\u001b[0m \u001b[0mpandas\u001b[0m \u001b[1;32mas\u001b[0m \u001b[0mpd\u001b[0m\u001b[1;33m\u001b[0m\u001b[1;33m\u001b[0m\u001b[0m\n\u001b[0;32m      4\u001b[0m \u001b[1;32mimport\u001b[0m \u001b[0mnumpy\u001b[0m \u001b[1;32mas\u001b[0m \u001b[0mnp\u001b[0m\u001b[1;33m\u001b[0m\u001b[1;33m\u001b[0m\u001b[0m\n\u001b[0;32m      5\u001b[0m \u001b[1;32mfrom\u001b[0m \u001b[0mnltk\u001b[0m\u001b[1;33m.\u001b[0m\u001b[0mtokenize\u001b[0m \u001b[1;32mimport\u001b[0m \u001b[0mPunktSentenceTokenizer\u001b[0m\u001b[1;33m,\u001b[0m \u001b[0mRegexpTokenizer\u001b[0m\u001b[1;33m\u001b[0m\u001b[1;33m\u001b[0m\u001b[0m\n",
      "\u001b[1;31mModuleNotFoundError\u001b[0m: No module named 'lda'"
     ]
    }
   ],
   "source": [
    "import numpy as nt\n",
    "import os, csv, nltk, lda\n",
    "import pandas as pd\n",
    "import numpy as np\n",
    "from nltk.tokenize import PunktSentenceTokenizer, RegexpTokenizer\n",
    "from nltk.corpus import stopwords\n",
    "from nltk.stem import WordNetLemmatizer\n",
    "from scipy import sparse\n",
    "from sklearn.feature_extraction.text import TfidfVectorizer\n",
    "from sklearn.metrics.pairwise import cosine_similarity\n",
    "from sklearn.feature_extraction.text import CountVectorizer\n",
    "\n",
    "from nltk.tokenize import PunktSentenceTokenizer,RegexpTokenizer\n",
    "from nltk.corpus import stopwords\n",
    "from nltk.stem import WordNetLemmatizer"
   ]
  },
  {
   "cell_type": "code",
   "execution_count": 191,
   "id": "0358f2c4",
   "metadata": {},
   "outputs": [],
   "source": [
    "go.to_csv('./gogogo.csv')"
   ]
  }
 ],
 "metadata": {
  "kernelspec": {
   "display_name": "Python 3",
   "language": "python",
   "name": "python3"
  },
  "language_info": {
   "codemirror_mode": {
    "name": "ipython",
    "version": 3
   },
   "file_extension": ".py",
   "mimetype": "text/x-python",
   "name": "python",
   "nbconvert_exporter": "python",
   "pygments_lexer": "ipython3",
   "version": "3.9.5"
  }
 },
 "nbformat": 4,
 "nbformat_minor": 5
}
